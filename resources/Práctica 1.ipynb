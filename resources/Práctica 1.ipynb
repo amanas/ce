{
 "cells": [
  {
   "cell_type": "markdown",
   "metadata": {},
   "source": [
    "# Introduccion\n",
    "\n",
    "El presente proyecto contiene los ejercicios correspondientes a la primera práctica de la asignatura **\"Computación Evolutiva\"** del máster **\"Máster Universitario en I.A. Avanzada: fundamentos, métodos y aplicaciones\"**\n",
    "\n",
    "El lenguaje de programación en el que se realizan estos ejercicios es **Clojure**, un dialecto de Lisp que puede ejecutarse sobre la máquina virtual java o .Net. Existen también intérpretes de Clojure para javascript.\n",
    "\n",
    "\n",
    "\n"
   ]
  }
 ],
 "metadata": {
  "anaconda-cloud": {},
  "kernelspec": {
   "display_name": "Python [conda root]",
   "language": "python",
   "name": "conda-root-py"
  },
  "language_info": {
   "codemirror_mode": {
    "name": "ipython",
    "version": 3
   },
   "file_extension": ".py",
   "mimetype": "text/x-python",
   "name": "python",
   "nbconvert_exporter": "python",
   "pygments_lexer": "ipython3",
   "version": "3.5.2"
  }
 },
 "nbformat": 4,
 "nbformat_minor": 1
}
