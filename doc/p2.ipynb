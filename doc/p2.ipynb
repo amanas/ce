{
 "cells": [
  {
   "cell_type": "markdown",
   "metadata": {},
   "source": [
    "A continuación, se describen las actividades a realizar:\n",
    "1. Representar gráficamente cada una de las funciones para el caso n=2. Aunque, como se verá más adelante, el problema de encontrar el mínimo se planteará, en ambas funciones, para valores de n>2, la visualización 2D permitirá al alumno hacerse una idea de la complejidad del problema a resolver.\n",
    "2. Implementar el código de una estrategia evolutiva y describir las características de la aplicación implementada. Al entregar la práctica, el alumno deberá adjuntar el código fuente y el ejecutable.\n",
    "3. Aplicar el programa implementado para encontrar el mínimo de la función hiper-elipsoide rotado. Para ello, se usará la siguiente configuración: mutación no correlacionada de paso único, número de variables n=10, estrategia de selección de supervivientes de tipo (μ,λ)=(30, 200). Realizar 20 ejecuciones independientes de 1000 generaciones cada una.\n",
    "4. Repetir el experimento anterior utilizando mutación no correlacionada de n pasos.\n",
    "5. Repetir el paso (3) con la estrategia (μ+λ).\n",
    "6. Repetir el paso (4) con la estrategia (μ+λ).\n",
    "7. Para facilitar la comparativa de los resultados obtenidos en los pasos (3-6), se debe representar en una tabla los valores SR, MBF y AES (ver capítulo 14). En virtud de estos resultados aquí obtenidos, justifique cuál es la configuración más idónea para resolver el problema planteado.\n",
    "8. Dado que una estrategia evolutiva depende de otros parámetros, tales como el tipo de recombinación, tamaño de la población, valores de épsilon mínimo, tau y tau’, ¿es posible mejorar el comportamiento del algoritmo actuando sobre algunos de estos parámetros?\n",
    "9. Repetir los pasos (3-8) para la función de Rastrigin."
   ]
  },
  {
   "cell_type": "markdown",
   "metadata": {},
   "source": [
    "#1. Representación gráfica de las funciones para dos dimensiones\n",
    "\n",
    "Primero vamos a definir una función que nos permite dibujar en 3 dimensiones. Utilizamos la librería [matplotlib](http://matplotlib.org/), bastante conocida en el mundo [python](https://www.python.org/)."
   ]
  },
  {
   "cell_type": "code",
   "execution_count": 154,
   "metadata": {
    "collapsed": false
   },
   "outputs": [],
   "source": [
    "%matplotlib inline\n",
    "\n",
    "import numpy as np\n",
    "from mpl_toolkits.mplot3d import Axes3D\n",
    "import matplotlib.pyplot as plt\n",
    "import random\n",
    "import math \n",
    "from matplotlib import cm\n",
    "\n",
    "\n",
    "def plot_3d(f,a,b,step,figsize=(15, 15)):\n",
    "    \"\"\"\n",
    "    Dibuja en tres dimensiones una función \n",
    "    de dos variables\n",
    "\n",
    "    Args:\n",
    "        f (function): la función\n",
    "        a (float): extremo izquierdo del \n",
    "            dominio para las dos variables de f\n",
    "        b (float): extremo derecho del dominio \n",
    "            para  las dos variables de f\n",
    "        step (float): granularidad con la \n",
    "            que se  muestrea f\n",
    "        figsize (int,int): tamaño de la figura\n",
    "    \"\"\"\n",
    "    x = y = np.arange(a,b,step)\n",
    "    X, Y = np.meshgrid(x, y)\n",
    "    z = np.array([f([x,y]) for x,y in zip(np.ravel(X), \n",
    "                                          np.ravel(Y))])\n",
    "    Z = z.reshape(X.shape)\n",
    "        \n",
    "    fig = plt.figure(figsize=(15, 15))\n",
    "    ax = fig.add_subplot(111, projection='3d')\n",
    "    ax.set_xlabel('X')\n",
    "    ax.set_ylabel('Y')\n",
    "    ax.set_zlabel('Z')\n",
    "    ax.plot_surface(X, Y, Z, cmap=cm.coolwarm_r)   "
   ]
  },
  {
   "cell_type": "markdown",
   "metadata": {},
   "source": [
    "Defino ahora la función hiper-elipsoide rotado y la función de Rastrgin."
   ]
  },
  {
   "cell_type": "code",
   "execution_count": 155,
   "metadata": {
    "collapsed": false
   },
   "outputs": [],
   "source": [
    "def hiper_elipsoide_rotado(coords):\n",
    "    \"\"\"\n",
    "    Devuelve el valor del hiper-elipsoide \n",
    "    rotado en el punto dado por coords.\n",
    "\n",
    "    Args:\n",
    "        coords: las coordenadas de un \n",
    "            punto en un espacio real de \n",
    "            dimensión n\n",
    "    \"\"\"\n",
    "    result = 0\n",
    "    for i in range(1, len(coords)+1):\n",
    "        for j in range(1, i+1):\n",
    "            result += coords[j-1]**2\n",
    "    return result\n",
    "\n",
    "def rastrigin(coords):\n",
    "    \"\"\"\n",
    "    Devuelve el valor de la función de \n",
    "    Rastrigin en el punto dado por coords.\n",
    "\n",
    "    Args:\n",
    "        coords: las coordenadas de un punto \n",
    "            en un espacio real de dimensión n\n",
    "    \"\"\"\n",
    "    result = 0\n",
    "    for xi in coords:\n",
    "        result += (xi**2 - 10*math.cos(2*math.pi*xi))\n",
    "    return 10*len(coords) + result"
   ]
  },
  {
   "cell_type": "markdown",
   "metadata": {},
   "source": [
    "Podemos dibujar ahora el hiper-elipsoide rotado de 2 dimensiones:"
   ]
  },
  {
   "cell_type": "code",
   "execution_count": 22,
   "metadata": {
    "collapsed": false
   },
   "outputs": [],
   "source": [
    "# plot_3d(hiper_elipsoide_rotado, -65.54 , 65.54 , 1)"
   ]
  },
  {
   "cell_type": "markdown",
   "metadata": {},
   "source": [
    "Y la función de Rastrigin:"
   ]
  },
  {
   "cell_type": "code",
   "execution_count": 10,
   "metadata": {
    "collapsed": false
   },
   "outputs": [],
   "source": [
    "# plot_3d(rastrigin, -5.12 , 5.12 , 0.02)"
   ]
  },
  {
   "cell_type": "markdown",
   "metadata": {},
   "source": [
    "En el caso de la función de Rastrigin, claramente vemos que el renderizado en 3 dimensiones no nos dá suficiente información visual (tiene tantos máximos y mínimos que acaba uno por no saber como es la función).\n",
    "\n",
    "Por eso, será conveniente disponer de la siguiente función que nos permite tener una vista cenital de las funciones representando el valor que adoptan las mismas como un mapa de calor."
   ]
  },
  {
   "cell_type": "code",
   "execution_count": 156,
   "metadata": {
    "collapsed": true
   },
   "outputs": [],
   "source": [
    "def plot_color_map(f,a,b,step,figsize=(15, 9)):\n",
    "    \"\"\"\n",
    "    Dibuja en dos dimensiones la vista \n",
    "    cenital de una función de dos variables \n",
    "    vista como un mapa de intensidad.\n",
    "\n",
    "    Args:\n",
    "        f: la función\n",
    "        a: extremo izquierdo del dominio \n",
    "            para las dos variables de f\n",
    "        b: extremo derecho del dominio \n",
    "            para las dos variables de f\n",
    "        step: granularidad con la que se\n",
    "            muestrea f\n",
    "        figsize: tamaño de la figura\n",
    "    \"\"\"\n",
    "    x = y = np.arange(a,b,step)\n",
    "    X, Y = np.meshgrid(x, y)\n",
    "    z = np.array([f([x,y]) for x,y \n",
    "                  in zip(np.ravel(X), np.ravel(Y))])\n",
    "    Z = z.reshape(X.shape)\n",
    "\n",
    "    fig = plt.figure(figsize=(20, 13))\n",
    "    ax = fig.add_subplot(111)\n",
    "    ax.set_xlabel('X')\n",
    "    ax.set_ylabel('Y')\n",
    "    plt.imshow(Z,extent=[a,b,a,b])\n",
    "    plt.colorbar(orientation='vertical')"
   ]
  },
  {
   "cell_type": "markdown",
   "metadata": {},
   "source": [
    "Con esta función podemos ver que efectivamente el hiper elipsoide rotado se corresponde con una superficie con un único mínimo en el origen:"
   ]
  },
  {
   "cell_type": "code",
   "execution_count": 94,
   "metadata": {
    "collapsed": false
   },
   "outputs": [],
   "source": [
    "# plot_color_map(hiper_elipsoide_rotado, -65.54 , 65.54 , 1)"
   ]
  },
  {
   "cell_type": "markdown",
   "metadata": {},
   "source": [
    "Del mismo modo, podemos tener una vista más intuitiva del aspecto de la función de Rastrigin para 2 dimensiones. Observamos que en el intervalo en el que se dibuja tiene muchos mínimos locales, cuyo valor se hace más pequeño a medida que se aproximan al origen de coordenadas donde se encuentra su mínimo global."
   ]
  },
  {
   "cell_type": "code",
   "execution_count": 66,
   "metadata": {
    "collapsed": false
   },
   "outputs": [],
   "source": [
    "# plot_color_map(rastrigin, -5.12 , 5.12 , 0.02)"
   ]
  },
  {
   "cell_type": "markdown",
   "metadata": {},
   "source": [
    "# Implementación de la estrategia evolutiva de búsqueda de mínimos globales\n",
    "\n",
    "Siguiendo las indicaciones de la práctica, para la búsqueda de los mínimos globales de las funciones hiper elipsoide rotado y función de Rastrigin, se ha inplementado una estrategia evolutiva.\n",
    "\n",
    "Este tipo de estratedias están principalmente indicadas en problemas de optimización numérica (como es el caso de los problemas que queremos resolver). Son rápidas y suelen funcionar bien en problemas en los que se pueden representar las soluciones con números reales.\n",
    "\n",
    "A lo largo de la evolución, en este tipo de estrategias, no sólo va evolucionando la solución sino también los parámetros que controlan la evolución de la misma. \n",
    "\n",
    "## Introducción\n",
    "\n",
    "Mi implemetación es lo suficientemente genérica como para resolver problemas de cualquier dimensión n.\n",
    "\n",
    "En el caso de mi implementación, represento los individuos como diccionarios con las propiedades:\n",
    " - coords (coordenadas del individuo) \n",
    " - sigmas (parámetros sigma para el operador de mutación).\n",
    "\n",
    "Dado que en la práctica no se piden mutaciones correlacionadas, no agrego en la representación los parámetros alfa.\n",
    "\n",
    "Además, dado que en la práctica se piden experimentos de paso único y de n pasos determino que la propiedad sigmas de un individuo puede:\n",
    " - tener un único elemento numérico, en cuyo caso el comportamiento del algoritmo será de paso único\n",
    " - o bien tener un array con el mismo número de elementos que coords, en cuyo caso el comportamiento del algoritmo será de n pasos\n",
    "\n",
    "Será responsabilidad de la implementación de mis algoritmos interpretar, según la representación de los individuos, si la computación debe realizarse desde el enfoque de paso único (misma sigma controla la variabilidad de todas las coordenadas) o de n pasos (un sigma independiente para el control de la variabilidad de cada coordenada).\n",
    "\n",
    "Por ejemplo, para el caso de 3 dimensiones, un ejemplo de individuo perteneciente a una ejecución configurada con paso único sería:\n",
    "\n",
    "```python\n",
    "individual_1 = {'coords':[1,2,3],'sigmas':[1]}\n",
    "```\n",
    "\n",
    "Y para el mismo caso de 3 dimensiones, un ejemplo de individuo perteneciente a una ejecución configurada con n pasos sería:\n",
    "\n",
    "```python\n",
    "individual_2 = {'coords':[1,2,3],'sigmas':[2,3,1]}\n",
    "```\n",
    "\n",
    "## Implementación"
   ]
  },
  {
   "cell_type": "code",
   "execution_count": 163,
   "metadata": {
    "collapsed": false
   },
   "outputs": [],
   "source": [
    "from collections import Iterable \n",
    "import math\n",
    "\n",
    "def rand_individual(domain,dimension,step='n',sigma=1):    \n",
    "    \"\"\"\n",
    "    Genera un inviduo aleatoriamente.\n",
    "    Para conocer la representación utilizada para\n",
    "    los individuos, léanse los explicaciones \n",
    "    anteriores.\n",
    "\n",
    "    Args:\n",
    "        domain: intervalo real de definición de la \n",
    "            función cuyos óptimos buscamos\n",
    "        dimension: dimensión del experimento\n",
    "        step: 'n' si el individuo va a participar \n",
    "            en una estrategia de n pasos o 'one' \n",
    "            si la estrategia es de paso único\n",
    "        sigma: valor que adoptará/n el/los sigma/s \n",
    "            del individuo dependiendo de que la \n",
    "            estrategia sea de paso único o de n pasos\n",
    "    \"\"\"\n",
    "    coords=np.random.uniform(domain[0],domain[1],dimension)\n",
    "    if step=='one':\n",
    "        sigmas=[sigma]\n",
    "    elif step=='n':\n",
    "        sigmas=[sigma]*dimension\n",
    "    else:\n",
    "        raise ValueError('Not a valid step')\n",
    "    return {'coords':coords,'sigmas':sigmas}\n",
    "\n",
    "\n",
    "def one_step_mutation(individual,min_sigma=0):\n",
    "    \"\"\"\n",
    "    Muta un individuo en experimentos \n",
    "    de paso único.\n",
    "\n",
    "    Args:\n",
    "        individual: el individuo a mutar\n",
    "        min_sigma: el valor mínimo de sigma \n",
    "            permitido en el individuo mutado\n",
    "    \"\"\"\n",
    "    coords,[sigma]=individual['coords'],individual['sigmas']\n",
    "    n=len(coords)\n",
    "    tau=1/math.sqrt(n)\n",
    "    sigma_mut=sigma*math.exp(tau*np.random.normal())\n",
    "    sigma_mut=sigma_mut if min_sigma<sigma_mut else sigma\n",
    "    coords_mut=[x+sigma_mut*np.random.normal() for x in coords]\n",
    "    return {'coords':coords_mut,'sigmas':[sigma_mut]}\n",
    "\n",
    "\n",
    "def n_step_mutation(individual,min_sigma=0):\n",
    "    \"\"\"\n",
    "    Muta un individuo en experimentos de n pasos.\n",
    "\n",
    "    Args:\n",
    "        individual: el individuo a mutar\n",
    "        min_sigma: el valor mínimo de sigma \n",
    "            permitido en los sigmas del individuo mutado\n",
    "    \"\"\"\n",
    "    coords,sigmas=individual['coords'],individual['sigmas']\n",
    "    n=len(coords)\n",
    "    tau_1=1/math.sqrt(2*n)\n",
    "    tau_2=1/math.sqrt(2*math.sqrt(n))\n",
    "    common_norm=np.random.normal()\n",
    "    sigmas_mut=[]\n",
    "    coords_mut=[]\n",
    "    for sigma,coord in zip(sigmas,coords):\n",
    "        sigma_mut=sigma*math.exp(tau_1*common_norm + \n",
    "                                 tau_2*np.random.normal())\n",
    "        sigma_mut=sigma_mut if min_sigma<sigma_mut else sigma\n",
    "        coord_mut=coord + sigma_mut*np.random.normal()\n",
    "        sigmas_mut += [sigma_mut]\n",
    "        coords_mut += [coord_mut]\n",
    "    return {'coords':coords_mut,'sigmas':sigmas_mut}\n",
    "\n",
    "\n",
    "def discrete_recombination(ind_1,ind_2):\n",
    "    \"\"\"\n",
    "    Recombina dos individuos por el método \n",
    "    discreto (tomando una a una la coordenada \n",
    "    y el sigma de uno u otro individuo, \n",
    "    según el azar).\n",
    "    Este método acepta tanto individuos que \n",
    "    participan en estrategias de paso único \n",
    "    como de n pasos.\n",
    "\n",
    "    Args:\n",
    "        ind_1: primer individuo\n",
    "        ind_2: segundo individuo\n",
    "        \n",
    "    Returns:\n",
    "        la recombinación de ambos individuos\n",
    "    \"\"\"\n",
    "    sigmas_comb=[]\n",
    "    coords_comb=[]\n",
    "    both=[ind_1,ind_2]\n",
    "    one_step= 1==len(ind_1['sigmas'])\n",
    "    for i in range(len(ind_1['coords'])):\n",
    "        j=np.random.choice([0,1])\n",
    "        coords_comb+=[both[j]['coords'][i]]\n",
    "        if one_step:\n",
    "            sigmas_comb=[both[j]['sigmas'][i]]\n",
    "        else:\n",
    "            sigmas_comb+=[both[j]['sigmas'][i]]\n",
    "    return {'coords':coords_comb,'sigmas':sigmas_comb}\n",
    "\n",
    "\n",
    "def intermediate_recombination(ind_1,ind_2):\n",
    "    \"\"\"\n",
    "    Recombina dos individuos por el método \n",
    "    intermedio (tomando una a una la \n",
    "    coordenada y el sigma mediosde ambos \n",
    "    individuos).\n",
    "    Este método acepta tanto individuos que \n",
    "    participan en estrategias de paso único \n",
    "    como de n pasos.\n",
    "\n",
    "    Args:\n",
    "        ind_1: primer individuo\n",
    "        ind_2: segundo individuo\n",
    "    \"\"\"\n",
    "    return {'coords':[(a+b)/2 for a,b in zip(ind_1['coords'],ind_2['coords'])],\n",
    "            'sigmas':[(a+b)/2 for a,b in zip(ind_1['sigmas'],ind_2['sigmas'])]}\n",
    "\n",
    "\n",
    "\n",
    "def mu_comma_lambda(mus,lambdas,f,mu):\n",
    "    \"\"\"\n",
    "    Selección de tipo mu comma lambda\n",
    "    (selecciona los mejores individuos del \n",
    "    conjunto de lambas/hijos).\n",
    "\n",
    "    Args:\n",
    "        mus: los padres de la generación \n",
    "            en curso\n",
    "        lambdas: los hijos de la generación \n",
    "            en curso \n",
    "        f: la función de evaluación de la \n",
    "            calidad de los individuos \n",
    "            (función fitness)\n",
    "        mu: número de individuos a seleccionar\n",
    "    \"\"\"\n",
    "    return sorted(lambdas, key=lambda x:f(x['coords']))[0:mu]\n",
    "\n",
    "\n",
    "def mu_plus_lambda(mus,lambdas,f,mu):\n",
    "    \"\"\"\n",
    "    Selección de tipo mu plus lambda\n",
    "    (selecciona los mejores individuos del \n",
    "    conjunto de mus/padres y lambas/hijos).\n",
    "\n",
    "    Args:\n",
    "        mus: los padres de la generación en curso\n",
    "        lambdas: los hijos de la generación en curso \n",
    "        f: la función de evaluación de la calidad\n",
    "            de los individuos (función fitness)\n",
    "        mu: número de individuos a seleccionar\n",
    "    \"\"\"\n",
    "    return sorted(mus+lambdas, \n",
    "                  key=lambda x:f(x['coords']))[0:mu]\n",
    "\n",
    "\n",
    "def termination_cond_met(best,generation,max_generations,\n",
    "                         termination_delta,f):\n",
    "    \"\"\"\n",
    "    Determina si se dan las condiciones para que \n",
    "    la evolución acabe por\n",
    "     - haber evolucionado durante demasiadas \n",
    "         generaciones\n",
    "     - haber alcanzado el mejor individuo de la \n",
    "         generación en curso un fitness \n",
    "         suficientemente bueno\n",
    "\n",
    "    Args:\n",
    "        best: array con el histórico de los \n",
    "            mejores individuos de cada generación\n",
    "        generation: generación en curso\n",
    "        max_generations: máximo número de \n",
    "            generaciones permitido en el experimento\n",
    "        termination_delta: error mínimo del mejor \n",
    "            individuo. Si el fitness del mejor \n",
    "            individuo (cercanía al mínimo global \n",
    "            que sabemos que es 0) es inferior \n",
    "            a este valor, el experimento se da \n",
    "            por concluido.\n",
    "        f: la función de evaluación de la calidad\n",
    "            de los individuos (función fitness)\n",
    "    \"\"\"    \n",
    "    return max_generations<=generation \\\n",
    "           or 0<len(best) \\\n",
    "              and abs(f(best[-1]['coords']))<termination_delta\n",
    "\n",
    "\n",
    "def live(domain, dimension, f, \n",
    "         step='n', selection='mu_comma_lambda', \n",
    "         recombination='intermediate',\n",
    "         mu=30, lamb=200,\n",
    "         sigma=1, min_sigma=0.0001, \n",
    "         max_generations=1000,\n",
    "         termination_delta=0.0001):\n",
    "    \"\"\"\n",
    "    Lleva a cabo la estrategia evolutiva de \n",
    "    búsqueda de mínimos globales de las funciones \n",
    "    hiper elipsoide rotado o función de Rastrigin, \n",
    "    tal como se ha descrito  en el presente \n",
    "    documento.\n",
    "\n",
    "    Args:\n",
    "        domain: dominio de definición de la \n",
    "            función cuyos mínimos globales \n",
    "            se buscan\n",
    "        dimension: demensión del espacio en el \n",
    "            que se define la función f\n",
    "        f: función cuyos mínimos globales \n",
    "            buscamos con la estrategia evolutiva\n",
    "        step: determina si la estrategia será \n",
    "            de paso único 'one' o de n pasos 'n'. \n",
    "            El valor por defecto es 'n'.\n",
    "        selection: determina si la selección \n",
    "            de hijos  se hará con el método \n",
    "            mu comma lambda 'mu_comma_lambda' \n",
    "            o mu plus lambda  'mu_plus_lambda'.\n",
    "            Valor por defecto 'mu_comma_lambda'.\n",
    "        recombination: determina si la recombinación \n",
    "            de individuos se hará por el método \n",
    "            discreto 'discrete' o intermedio\n",
    "            'intermediate'.\n",
    "            Valor por defecto 'intermediate'\n",
    "        mu: número de padres en cada iteración. \n",
    "            El valor por defecto es de 30.\n",
    "        lamb: número de hijos en cada interación.\n",
    "            El valor por defecto es de 200.\n",
    "        sigma: valor por defecto que se aplicará \n",
    "            en la  inicialización de los sigmas \n",
    "            de todo individuo.\n",
    "            Valor por defecto 1.\n",
    "        min_sigma: valor mínimo permitido de los \n",
    "            sigmas de un individuo.\n",
    "            Valor por defecto 0.0001.\n",
    "        max_generations: número de generaciones \n",
    "            máximo permitido en el experimento. \n",
    "            Valor por defecto 1000:\n",
    "        termination_delta: error mínimo del mejor \n",
    "            individuo. \n",
    "            Si el fitness del mejor individuo \n",
    "            (cercanía al mínimo global que sabemos\n",
    "            que es 0) es inferior a este valor, \n",
    "            el experimento se da por concluido.\n",
    "            Valor por defecto 0.0001.      \n",
    "\n",
    "    Returns:\n",
    "        - el mejor individuo encontrado tras la evolución \n",
    "        - y un array con el histórico del mejor inviduo \n",
    "            en cada generación.\n",
    "    \"\"\"    \n",
    "    \n",
    "    if step=='n':\n",
    "        mut_f=n_step_mutation\n",
    "    elif step=='one': \n",
    "        mut_f=one_step_mutation\n",
    "    \n",
    "    if recombination=='intermediate':\n",
    "        rec_f=intermediate_recombination\n",
    "    elif recombination=='discrete':\n",
    "        rec_f=discrete_recombination\n",
    "        \n",
    "    if selection=='mu_comma_lambda':\n",
    "        sel_f=mu_comma_lambda\n",
    "    elif selection=='mu_plus_lambda':\n",
    "        sel_f=mu_plus_lambda\n",
    "    \n",
    "    t,best=0,[]\n",
    "    mus=[rand_individual(domain,dimension,step,sigma) for i in range(mu)]    \n",
    "    while not termination_cond_met(best,t,max_generations,termination_delta,f):\n",
    "        recombinations=[rec_f(*random.sample(mus,2)) for i in range(lamb)]\n",
    "        mutations=[mut_f(ind,min_sigma) for ind in recombinations]\n",
    "        mus=sel_f(mus,mutations,f,mu)\n",
    "        best+=[mus[0]]\n",
    "        t+=1\n",
    "    return best[-1],best"
   ]
  },
  {
   "cell_type": "markdown",
   "metadata": {},
   "source": [
    "##Descripción de la estrategia\n",
    "\n",
    "Observando la función live, que es la que coordina la evolución, se pueden apreciar los aspectos que siguen.\n",
    "\n",
    "Dado un experimento, es obligatorio indicar el número de dimensiones que se van a utilizar, la función f (hiperelipsoide rotada o rastrigin) y el dominio de definición de la función f.\n",
    "\n",
    "Todo experimento puede realizarse de paso único o de n pasos, con recombinación intermedia o discreta y con selección de descendencia por $(\\mu,\\lambda)$ o $(\\mu + \\lambda)$.\n",
    "\n",
    "Los valores de mu, lamb, sigma, min_sigma, max_generations o termination_delta se dan por defecto, aunque pueden ser configurados en cada ejecución del experimento.\n",
    "\n",
    "La estrategia en sí es bastante simple, un individuo se representa por unas coordenadas en el espacion n-dimensional y por uno ('one' step) o tantos sigmas como coordenadas tenga el individuo ('n' step), que gobierna la intensidad de la mutación tanto de las coordenadas como de los propios sigmas.\n",
    "\n",
    "En esta implementación, por hacerla más sencilla de entender y de mantener, se toman los valores de tau por defecto que se indican en el documento base de referencia. No se permite parametrizar tales valores sino que todos los experimentos tendrán los mismos en función del número de dimensiones.\n",
    "\n",
    "Con estas explicaciones, el algoritmo simplemente hace esto:\n",
    " - genera una población inicial al azar en el intervalo de definición de la función\n",
    " - mientras el fitness del mejor individuo no sea suficientemente bueno o no se haya alcanzado el máximo de generaciones permitido\n",
    "   - generar lamd individuos recombinando la población actual\n",
    "   - mutar los individuos lamb anteriores\n",
    "   - establecer la nueva población como los mejores individuos seleccionados de entre los individuos mutados y la población actual (dependiendo de la función de selección)\n",
    "   - guardar el mejor de los resultantes en el paso anterior en el histórico de mejores individuos por generación\n",
    "   - repetir hasta que no se tenga un individuo con suficiente fitness o no se hayan agotado el máximo de generaciones permitidas\n",
    " - devolvel el mejor individuo y el histórico de mejores individuos por generación\n",
    " \n",
    "##Pruebas en dos dimensiones \n",
    "\n",
    "Antes de pasar a hacer los experimentos en 10 dimensiones que se piden en la práctica es mejor ver como se comporta el algoritmo en el caso de 2 dimensiones.\n",
    "\n",
    "La ventaja de hacerlo en 2 dimensiones es que podemos disponer de un gráfico qeu muestre visualmente \"la traza\" de la evolución.\n",
    "\n",
    "A tal efecto, la siguiente función nos será muy útil junto a la función plot_color_map que se definión anteriormente."
   ]
  },
  {
   "cell_type": "code",
   "execution_count": 164,
   "metadata": {
    "collapsed": true
   },
   "outputs": [],
   "source": [
    "def add_scatter(individuals):\n",
    "    \"\"\"\n",
    "    Dibuja un scatter con la secuencia de \n",
    "    coordenadas que se corresponden con una \n",
    "    secuencia de individuos según los \n",
    "    represento en la presente práctica\n",
    "    (se explica más arriba).\n",
    "    Permite representar el camino que sigue la \n",
    "    evolución de la mejor solución que el \n",
    "    algoritmo encuentra en cada generación.\n",
    "\n",
    "    Args:\n",
    "        individuals: array de individuos\n",
    "    \"\"\"    \n",
    "    x,y=[],[]\n",
    "    for ind in individuals:\n",
    "        x+=[ind['coords'][0]]\n",
    "        y+=[ind['coords'][1]]\n",
    "    colors=cm.rainbow(np.linspace(0, 1, len(x)))\n",
    "    plt.scatter(x, y, c=colors, s=100)"
   ]
  },
  {
   "cell_type": "markdown",
   "metadata": {},
   "source": [
    "Igualmente, nos será uy útil una función que dibuje como de próximo está un individuo al óptimo global buscado, que sabemos que en ambos casos es 0. Algo que nos sirva para representar la evolución del fitness del mejor individuo.\n",
    "\n",
    "**Nótese que la siguiente función hace una transformación logarítmica de los valores por f de cada individuo, para evitar que los gráficos salgan aberrados y por lo tanto que no sirvan para interpretarse con provecho.**"
   ]
  },
  {
   "cell_type": "code",
   "execution_count": 120,
   "metadata": {
    "collapsed": false
   },
   "outputs": [],
   "source": [
    "def plot_inv_log_fitness(f,individuals):\n",
    "    \"\"\"\n",
    "    Dibuja el valor dado por f en una población \n",
    "    de individuos en escala logarítmica. \n",
    "    Puede interpretarse con el inverso\n",
    "    del fitness de los individuos.\n",
    "    \n",
    "    Se utiliza escala logarítmica porque si no\n",
    "    los gráficos salen un poco aberrados.\n",
    "\n",
    "    Args:\n",
    "        f: una función n variada\n",
    "        individuals: array de individuos con \n",
    "            n coordenadas cada uno.\n",
    "    \"\"\"    \n",
    "    plt.plot([math.log(f(ind['coords'])+1) for ind in individuals])"
   ]
  },
  {
   "cell_type": "markdown",
   "metadata": {},
   "source": [
    "###Hiperelipsoide rotado en 2 dimensiones\n",
    "\n",
    "De este modo, para el hiper elipsoide rotado de 2 dimensiones, con todos los valores por defecto, podemos llevar a cabo una búsqueda del mínimo global:"
   ]
  },
  {
   "cell_type": "code",
   "execution_count": 110,
   "metadata": {
    "collapsed": true
   },
   "outputs": [],
   "source": [
    "best,all=live([-65.54 , 65.54],2,hiper_elipsoide_rotado)"
   ]
  },
  {
   "cell_type": "markdown",
   "metadata": {},
   "source": [
    "Y ver gráficamente como el mejor individuo de cada generación se va aproximando al origen de coordenadas.\n",
    "Nótese que el aprendizaje es tan rápido que los individuos muy rápidamente se ubican muy próximos al origen de coordenadas. Por eso, reduzco a [-5,5] el intervalo en el que dibujo los gráficos."
   ]
  },
  {
   "cell_type": "code",
   "execution_count": 114,
   "metadata": {
    "collapsed": false
   },
   "outputs": [],
   "source": [
    "# plot_color_map(hiper_elipsoide_rotado,-5,5,0.1)\n",
    "# add_scatter(all)"
   ]
  },
  {
   "cell_type": "markdown",
   "metadata": {},
   "source": [
    "Podemos ver la evolución del fitness del mejor individuo (en escala logarítmica e inversa):"
   ]
  },
  {
   "cell_type": "code",
   "execution_count": 116,
   "metadata": {
    "collapsed": false
   },
   "outputs": [],
   "source": [
    "# plot_inv_log_fitness(hiper_elipsoide_rotado,all)"
   ]
  },
  {
   "cell_type": "markdown",
   "metadata": {},
   "source": [
    "###Rastrigin en 2 dimensiones\n",
    "\n",
    "Equivalenteme, para el caso de la función de Rastrigin, en dos dimensiones, tenemos:"
   ]
  },
  {
   "cell_type": "code",
   "execution_count": 136,
   "metadata": {
    "collapsed": false
   },
   "outputs": [],
   "source": [
    "best,all=live([-5.12 , 5.12],2,rastrigin)\n",
    "\n",
    "# Reducimos el intervalo en el que dibujamos\n",
    "# para mayor claridad del dibujo\n",
    "# plot_color_map(rastrigin,-2,2,0.1)\n",
    "# add_scatter(all)\n",
    "# plt.show()\n",
    "# plot_inv_log_fitness(rastrigin,all)"
   ]
  },
  {
   "cell_type": "markdown",
   "metadata": {},
   "source": [
    "Nótese que si en este ejemplo no se indica un valor mínimo para los sigmas, normalmente la solución se estanca en un mínimo local y no llega al global. Sin embargo, si limitamos por abajo el valor de los sigmas (como ocurre por defecto), en mis experimentos siempre he llegado al delta de error mínimo establecido.\n",
    "\n",
    "Y son esto, más o menos, podemos hacernos una idea del herramentaje que tenemos a nuestra disposición para continuar con la práctica."
   ]
  },
  {
   "cell_type": "markdown",
   "metadata": {},
   "source": [
    "#Ejercicio 3: Búsqueda del mínimo del hiper-elipsoide rotado de 10 dimensiones con selección mu coma lambda y paso único\n",
    "\n",
    "Realizamos 20 ejecuciones y guardamos los resultados en la variable **hiper_10_30_200_one_comma_results**.\n",
    "\n",
    "Analizaremos estos resultados posteriormente."
   ]
  },
  {
   "cell_type": "code",
   "execution_count": 139,
   "metadata": {
    "collapsed": false
   },
   "outputs": [],
   "source": [
    "def hiper_10_30_200_one_comma():\n",
    "    return live([-65.54 , 65.54],10,\n",
    "                hiper_elipsoide_rotado,\n",
    "                step='one',  \n",
    "                selection='mu_comma_lambda',\n",
    "                mu=30,lamb=200)\n",
    "\n",
    "# hiper_10_30_200_one_comma_results = [hiper_10_30_200_one_comma()\n",
    "#                                     for i in range(20)]"
   ]
  },
  {
   "cell_type": "markdown",
   "metadata": {},
   "source": [
    "#Ejercicio 4: Búsqueda del mínimo del hiper-elipsoide rotado de 10 dimensiones con selección mu coma lambda y paso n\n",
    "\n",
    "Realizamos 20 ejecuciones y guardamos los resultados en la variable **hiper_10_30_200_n_comma_results**.\n",
    "\n",
    "Analizaremos estos resultados posteriormente."
   ]
  },
  {
   "cell_type": "code",
   "execution_count": 143,
   "metadata": {
    "collapsed": true
   },
   "outputs": [],
   "source": [
    "def hiper_10_30_200_n_comma():\n",
    "    return live([-65.54 , 65.54],10,\n",
    "                hiper_elipsoide_rotado,\n",
    "                step='n',  \n",
    "                selection='mu_comma_lambda',\n",
    "                mu=30,lamb=200)\n",
    "\n",
    "hiper_10_30_200_n_comma_results = [hiper_10_30_200_n_comma()\n",
    "                                   for i in range(20)]"
   ]
  },
  {
   "cell_type": "markdown",
   "metadata": {},
   "source": [
    "#Ejercicio 5: Búsqueda del mínimo del hiper-elipsoide rotado de 10 dimensiones con selección mu plus lambda y paso único\n",
    "\n",
    "Realizamos 20 ejecuciones y guardamos los resultados en la variable **hiper_10_30_200_one_plus_results**.\n",
    "\n",
    "Analizaremos estos resultados posteriormente."
   ]
  },
  {
   "cell_type": "code",
   "execution_count": 145,
   "metadata": {
    "collapsed": true
   },
   "outputs": [],
   "source": [
    "def hiper_10_30_200_one_plus():\n",
    "    return live([-65.54 , 65.54],10,\n",
    "                hiper_elipsoide_rotado,\n",
    "                step='one',  \n",
    "                selection='mu_plus_lambda',\n",
    "                mu=30,lamb=200)\n",
    "\n",
    "# hiper_10_30_200_one_plus_results = [hiper_10_30_200_one_plus()\n",
    "#                                     for i in range(20)]"
   ]
  },
  {
   "cell_type": "markdown",
   "metadata": {},
   "source": [
    "#Ejercicio 6: Búsqueda del mínimo del hiper-elipsoide rotado de 10 dimensiones con selección mu plus lambda y paso n\n",
    "\n",
    "Realizamos 20 ejecuciones y guardamos los resultados en la variable hiper_10_30_200_n_plus_results.\n",
    "\n",
    "Analizaremos estos resultados posteriormente."
   ]
  },
  {
   "cell_type": "code",
   "execution_count": 146,
   "metadata": {
    "collapsed": true
   },
   "outputs": [],
   "source": [
    "def hiper_10_30_200_n_plus():\n",
    "    return live([-65.54 , 65.54],10,\n",
    "                hiper_elipsoide_rotado,\n",
    "                step='n',  \n",
    "                selection='mu_plus_lambda',\n",
    "                mu=30,lamb=200)\n",
    "\n",
    "# hiper_10_30_200_n_plus_results = [hiper_10_30_200_n_plus()\n",
    "#                                   for i in range(20)]"
   ]
  },
  {
   "cell_type": "markdown",
   "metadata": {
    "collapsed": true
   },
   "source": [
    "#Resultados para la función hiper-elipsoide rotado\n",
    "\n",
    "Para justificar la conveniencia de una otra configuración de la estrategia evolutiva utilizada para la búsqueda de los mínimos del hiper-elipsoide rotado, primero tenemos que definir las funciones de rendimiento con las que medir los resultados.\n",
    "\n",
    "Lógicamente, estas funciones serán igualmente utilizables en el caso de la función de Rastrigin."
   ]
  },
  {
   "cell_type": "code",
   "execution_count": 153,
   "metadata": {
    "collapsed": false
   },
   "outputs": [],
   "source": [
    "def AES(results):\n",
    "    \"\"\"\n",
    "    Calcula el número medio de evaluaciones \n",
    "    hasta dar con la solución.\n",
    "\n",
    "    Args:\n",
    "        results (array): un array con la salida \n",
    "            devuelta por la función live, i.e. un \n",
    "            array  de arrays con mejor individuo\n",
    "            encontrado como primer elemento\n",
    "            e histórico de mejores individuos \n",
    "            por generación como segundo elemento.\n",
    "            \n",
    "    Returns:\n",
    "        float: el número medio de evaluaciones \n",
    "            hasta dar con la solución\n",
    "    \"\"\"\n",
    "    return None\n",
    "\n",
    "AES(None)"
   ]
  },
  {
   "cell_type": "code",
   "execution_count": null,
   "metadata": {
    "collapsed": true
   },
   "outputs": [],
   "source": [
    "\n",
    "\n"
   ]
  },
  {
   "cell_type": "code",
   "execution_count": null,
   "metadata": {
    "collapsed": true
   },
   "outputs": [],
   "source": []
  },
  {
   "cell_type": "code",
   "execution_count": null,
   "metadata": {
    "collapsed": true
   },
   "outputs": [],
   "source": []
  },
  {
   "cell_type": "code",
   "execution_count": null,
   "metadata": {
    "collapsed": true
   },
   "outputs": [],
   "source": []
  },
  {
   "cell_type": "code",
   "execution_count": null,
   "metadata": {
    "collapsed": true
   },
   "outputs": [],
   "source": []
  }
 ],
 "metadata": {
  "anaconda-cloud": {},
  "kernelspec": {
   "display_name": "Python [conda root]",
   "language": "python",
   "name": "conda-root-py"
  },
  "language_info": {
   "codemirror_mode": {
    "name": "ipython",
    "version": 2
   },
   "file_extension": ".py",
   "mimetype": "text/x-python",
   "name": "python",
   "nbconvert_exporter": "python",
   "pygments_lexer": "ipython2",
   "version": "2.7.12"
  },
  "latex_envs": {
   "bibliofile": "biblio.bib",
   "cite_by": "apalike",
   "current_citInitial": 1,
   "eqLabelWithNumbers": true,
   "eqNumInitial": 0
  }
 },
 "nbformat": 4,
 "nbformat_minor": 1
}
