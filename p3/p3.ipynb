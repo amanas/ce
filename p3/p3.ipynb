{
 "cells": [
  {
   "cell_type": "markdown",
   "metadata": {
    "collapsed": true
   },
   "source": [
    "1. Bibliografía:\n",
    "  - El **tema 6** permitirá al alumno familiarizarse con la programación genética (PG) \n",
    "  - y, **el mencionado artículo**, con una de las variantes de la PG, denominada Evolución Gramatical (del inglés Grammatical Evolution, GE). \n",
    "  - El **capítulo 8** describe distintos mecanismos para sintonizar de forma adaptativa cada uno de los diferentes parámetros de los que consta un algoritmo evolutivo (AE). \n",
    "  - El **capítulo 10** describe la forma de hibridar un AE con otros métodos de búsqueda. \n",
    "  - Finalmente, en el **capítulo 12**, se muestran distintas estrategias para manejar la existencia de restricciones en problemas de optimización que son abordados mediante AEs.\n",
    "  \n",
    "2. Secciones\n",
    "  - Descripción del problema a resolver\n",
    "  - Método para resolverlo \n",
    "    - se debe analizar la idoneidad o no del uso de GE para resolver el problema planteado\n",
    "    - se debe incluir la expresión matemática de la función de evaluación finalmente empleada\n",
    "    - se debe incluir la descripción de los diferentes operadores de inicialización, variación y selección empleados\n",
    "    - se debe incluir la forma de manejar las restricciones, los mecanismos de control de parámetros utilizados, así como los mecanismos de búsqueda local implementados\n",
    "  - Los resultados de los distintos experimentos realizados\n",
    "  - Un análisis y comparación de resultados\n",
    "  - Una sección de conclusiones\n",
    "  - Una descripción del código implementado. \n",
    "\n",
    "3. Evaluación\n",
    "  - Sobre la presentación (2/10)\n",
    "    - Se evaluará especialmente la claridad en la redacción de la memoria y la capacidad de síntesis.  \n",
    "  - Sobre el manejo de restricciones (1/10)\n",
    "      - Se valorará la originalidad del mecanismo o mecanismos usados para el manejo de restricciones.\n",
    "  - Sobre la configuración del algoritmo (2/10)\n",
    "    - Aquí se valorará el procedimiento seguido por el alumno a la hora de elegir la mejor configuración de parámetros del algoritmo, incluyendo la implementación de mecanismos de control de parámetros adaptativos o auto-adaptativos\n",
    "  - Sobre la hibridación del algoritmo con técnicas de búsqueda local (1/10)\n",
    "    - Se valorará la originalidad del mecanismo de búsqueda local utilizado.\n",
    "  - Sobre el análisis y comparación de resultados, y conclusiones (4/10)\n",
    "    - Se valorará la forma de interpretar y comparar los diferentes experimentos realizados.\n",
    "      - Es muy importante que dicha valoración se haga siempre en términos de los índices SR, MBF, AES \n",
    "      - y cualquier otra gráfica que considere oportuna como, por ejemplo, los plots de progreso de convergencia. \n",
    "    - Finalmente, se valorará la calidad de las conclusiones obtenidas a partir de la interpretación y comparación de resultados.\n"
   ]
  },
  {
   "cell_type": "markdown",
   "metadata": {},
   "source": [
    "# 1. Descripción del problema a resolver\n",
    "\n",
    "Repitiendo las indicaciones dadas en el documento de la actividad, el problema consiste en implementar un algoritmo evolutivo para calcular la derivada simbólica de una función \n",
    "$$ f:X \\subseteq \\mathcal{R} \\rightarrow \\mathcal{R} $$ \n",
    "\n",
    "Disponemos de las siguientes dos definiciones:\n",
    "\n",
    "> **Definición de derivada de una función en un punto**: Sea $X \\subseteq \\mathcal{R}$ un intervalo abierto. Diremos que $f:X \\subseteq \\mathcal{R} \\rightarrow \\mathcal{R}$ es derivable en $x_0 \\in X$, denotado por $f'(x_0)$, si existe y es finito el límite:\n",
    "$$\n",
    "f'(x_0) = \\lim \\limits_{h \\to 0} \\frac{f(x_0+h)-f(x_0)}{h}  \\tag{1}\n",
    "$$\n",
    "\n",
    "> **Definición de derivada de una función en un intervalo**: Sea $X \\subseteq \\mathcal{R}$ un intervalo abierto. Diremos que $f:X \\subseteq \\mathcal{R} \\rightarrow \\mathcal{R}$ es derivable en el intervalo $[a,b] \\subseteq X$, si $f$ es derivable en cada uno de los puntos de dicho intervalo, es decir, si:\n",
    "$$\n",
    "f'(x) = \\lim \\limits_{h \\to 0} \\frac{f(x+h)-f(x)}{h}, \\forall x \\in [a,b]  \\tag{2}\n",
    "$$\n",
    "\n",
    "Suponiendo que $f$ sea derivable en $[a,b]$, el problema de calcular la derivada lo vamos a transformar en un nuevo problema de optimización consistente en encontrar una función $g(x)$ que minimice la expresión:\n",
    "$$\n",
    "\\min \\limits_{g(x)} \\frac{1}{b-a}\\int_{a}^{b} error[f'(x),g(x)]dx \\tag{3}\n",
    "$$\n",
    "\n",
    "dónde $f'(x)$ se calcularía utilizando la expresión $(2)$.\n",
    "\n",
    "No obstante, el problema anterior se puede resolver de forma aproximada discretizando el intervalo de definición, es decir, cambiando el operador integral por un sumatorio:\n",
    "$$\n",
    "\\min \\limits_{g(x)} \\frac{1}{N+1}\\sum_{i=0}^{N} error_i[f'(a+i*h),g(a+i*h)] \\tag{4}\n",
    "$$\n",
    "dónde $h=\\frac{b-a}{N}$ es la anchura del subintervalo de muestreo para conseguir muestrear $N+1$ puntos en el intervalo $[a,b]$, y $f'(a+i*h)$ viene dado por:\n",
    "$$\n",
    "f'(a+i*h)=\\frac{f(a+(i+1)*h) - f(a+i*h)}{h}, \\forall i \\in \\{0,1,...,N\\} \\tag{5}\n",
    "$$\n",
    "\n",
    "# 2. Breve introducción a la GE\n",
    "\n",
    "La evolución gramatical codifica un conjunto de números pseudo aleatorios **(codones)** en un cromosoma que consiste en un número variable de genes binarios de 8 bits. \n",
    "\n",
    "Estos números se usan para seleccionar una regla apropiada a partir de una definición de gramática con **notación Backus-Naur (BNF)**.\n",
    "\n",
    "**Una gramática de BNF consiste en la tupla**\n",
    "$$  \\{N, T, P, S \\} $$\n",
    "dónde:\n",
    "- **N** es el conjunto de no terminales, \n",
    "- **T** es el conjunto de terminales\n",
    "- **P** es un conjunto de reglas de producción que mapean los elementos de N a T \n",
    "- **S** es un símbolo de inicio que es un miembro de N. \n",
    "  \n",
    "Los no terminales de la gramática se mapean en los terminales de la gramática mediante la aplicación recursiva de las reglas dictadas por los valores de los genes. Al finalizar el proceso de mapeo, el código final producido (fenotipo) está formado sólo por terminales.\n",
    "\n",
    "Por ejemplo, si consideramos esta gramática BNF:\n",
    "\n",
    "```\n",
    "N = { expr, op, pre_op } \n",
    "T = { Sin, Cos, Tan, Log, +, -, /, *, X, () } \n",
    "S = <expr>\n",
    "```\n",
    "\n",
    "Y representamos P por:\n",
    "\n",
    "```\n",
    "(1) <expr> ::= <expr> <op> <expr>     (A) \n",
    "             | ( <expr> <op> <expr> ) (B)\n",
    "             | <pre-op> ( <expr> )    (C) \n",
    "             | <var>                  (D)\n",
    "(2) <op> ::= + (A)  \n",
    "           | - (B) \n",
    "           | / (C) \n",
    "           | * (D)\n",
    "(3) <pre-op> ::= Sin (A)  \n",
    "               | Cos (B) \n",
    "               | Tan (C) \n",
    "               | Log (D)\n",
    "(4) <var> ::= X\n",
    "```\n",
    "\n",
    "Consideremos la regla (1):\n",
    "\n",
    "```\n",
    "(1) <expr> ::= <expr> <op> <expr> \n",
    "             | ( <expr> <op> <expr> ) \n",
    "             | <pre-op> ( <expr> ) \n",
    "             | <var>\n",
    "```\n",
    "\n",
    "En este caso, el no terminal puede producir uno de cuatro resultados diferentes, para decidir cuál utilizar nuestro sistema toma el siguiente número aleatorio disponible del cromosoma y, en este caso obtiene el módulo cuatro del número para decidir qué regal de producción toma. \n",
    "\n",
    "Cada vez que se tiene que tomar una decisión, se lee otro número pseudo aleatorio del cromosoma, y de esta manera, el sistema atraviesa el cromosoma.\n",
    "\n",
    "En GE es posible que los individuos se queden sin genes durante el proceso de mapeo, y en este caso hay dos alternativas:\n",
    "- La primera es declarar al individuo inválido y castigarlos con un valor de fitness adecuado\n",
    "- La segunda es envolver al individuo y reutilizar los genes. Este es un enfoque bastante inusual en EAs, ya que es completamente posible que ciertos genes se usen dos o más veces. \n",
    "\n",
    "**Lo que es crucial, sin embargo, es que cada vez que un individuo en particular es mapeado de su genotipo a su fenotipo, se genera la misma salida. Esto se garantiza por el proceso de mapeo descrito anteriormente.**\n",
    "\n",
    "\n",
    "# 3.  Método para resolverlo\n",
    "\n",
    "## 3.1. Idoneidad de GE para resolver el problema\n",
    "\n",
    "Nuestro problema consiste en encontrar la derivada de una función probando/evolucionando distintas combinaciones de otras dadas.\n",
    "\n",
    "Según leemos en [grammatical-evolution.org](http://www.grammatical-evolution.org/papers/gp98/node1.html): \n",
    "\n",
    "> *GE has proved successful when applied to a symbolic regression problem [Ryan 98a], and finding trigonometric identities [Ryan 98b], here we apply GE to a symbolic integration problem taken from the literature [Koza 92]. This involves finding a function which is an integral of Cos(X)+2X+1. In each of these cases we take a subset of C as our target language which is described in Backus Naur Form definition. A Steady State selection mechanism [Syswerda 89] has been employed and was found to reduce the number of generations required to achieve a correct solution. Using this selection mechanism we reapplied our system to the two problems previously tackled and again found an improvement in performance for both of these problems.*\n",
    "\n",
    "Por lo tanto, según esta referencia, parece que utilizar una técnica evolutiva basada en Evolución Gramatical podría ser la forma más indicada.\n",
    "\n",
    "Además, teniendo en cuenta que el fundamente de la evolución gramatical se basa en definir una gramática que representa las formas válidas que pueden adoptar los individuos, y teniendo en cuenta que una función objetivo puede alcanzarse como combinación de operadores, números y otras funciones básicas, parece bastante natural que el problema de encontrar la derivadda de una función pueda abordar con técnicas de GE.\n",
    "\n",
    "## 3.2. Expresión matemática de la función de evaluación\n",
    "\n",
    "Primero necesitamos una función que nos permita tomar $N$ muestras del valor de la derivada de una función $f$ en un intervalo $D = [a,b]$."
   ]
  },
  {
   "cell_type": "code",
   "execution_count": 1,
   "metadata": {
    "collapsed": false
   },
   "outputs": [],
   "source": [
    "% matplotlib inline\n",
    "\n",
    "from math import sin, cos, exp, log\n",
    "\n",
    "\n",
    "def derivative(f, D, N):\n",
    "    \"\"\"\n",
    "    Calcula los valores aproximados de la derivada\n",
    "    de f en el intervalo D tomando N muestras    \n",
    "    \"\"\"\n",
    "    a, b = D\n",
    "    h = float(b - a) / N\n",
    "    return [(f(a + (i + 1) * h) - f(a + i * h)) / h for i in range(N + 1)]\n",
    "\n",
    "\n",
    "# derivative(sin, [0,1], 10)"
   ]
  },
  {
   "cell_type": "markdown",
   "metadata": {},
   "source": [
    "Necesitamos además poder tomar $N$ muestras de la función dada por el fenotipo compilado de un individuo en un intervalo $D=[a,b]$"
   ]
  },
  {
   "cell_type": "code",
   "execution_count": 2,
   "metadata": {
    "collapsed": false
   },
   "outputs": [],
   "source": [
    "def sample(f, D, N):\n",
    "    \"\"\"\n",
    "    Calcula los valores de la función f\n",
    "    en el intervalo D tomando N muestras    \n",
    "    \"\"\"\n",
    "    a, b = D\n",
    "    h = float(b - a) / N\n",
    "    return [f(a + i * h) for i in range(N + 1)]\n",
    "\n",
    "\n",
    "# sample(lambda x: cos(x), [0,1], 10)"
   ]
  },
  {
   "cell_type": "markdown",
   "metadata": {},
   "source": [
    "Podemos construir además la función que determina el error cometido al considerar un fenotipo $ \\text{fen}$ como la derivada de una función $f$.\n",
    "\n",
    "La función de evaluación viene dada por la expresión (4) indicada en el enunciado de la práctica. Existen diferentes formas de calcular el error; en esta práctica vamos a utilizar el error cuadrático.\n"
   ]
  },
  {
   "cell_type": "code",
   "execution_count": 3,
   "metadata": {
    "collapsed": false
   },
   "outputs": [],
   "source": [
    "def mean_square_error(A, B):\n",
    "    \"\"\"\n",
    "    Calcula el error cuadrático medio\n",
    "    entre dos listas de números\n",
    "    \"\"\"\n",
    "    squares = [(A[i] - B[i])**2 for i in range(len(A))]\n",
    "    return sum(squares) / float(len(A))\n",
    "\n",
    "\n",
    "# mean_square_error([4,5], [0,0])"
   ]
  },
  {
   "cell_type": "markdown",
   "metadata": {},
   "source": [
    "Así por ejemplo, para el caso de seno y coseno, podemos hacer esta prueba:"
   ]
  },
  {
   "cell_type": "code",
   "execution_count": 4,
   "metadata": {
    "collapsed": false
   },
   "outputs": [
    {
     "name": "stdout",
     "output_type": "stream",
     "text": [
      "Error para sin´ = cos:  0.0007595619669\n"
     ]
    }
   ],
   "source": [
    "A = derivative(sin, [0,1], 10)\n",
    "B = sample(lambda x: cos(x), [0,1], 10)\n",
    "print 'Error para sin´ = cos: ', mean_square_error(A, B)"
   ]
  },
  {
   "cell_type": "markdown",
   "metadata": {},
   "source": [
    "Siguiendo las indicaciones del enunciado de la práctica, en lugar de implementar desde cero el código que interpretase la gramática y realizara la decodificación de los individuos, prefiero apoyarme en una librería ya existante, [ponyge](https://github.com/jmmcd/ponyge). \n",
    "\n",
    "De ésta extraigo sólo la funcionalidad que permite interpretar la gramática y decodificar un individuo. No utilizo la librería tal cuál está disponible en la red, sino que me quedo sólo con la parte relevante, la cual incluyo en el archivo python ponyge.py. De este modo, puedo tener un objecto que interprete una gramática dada con una simple llamada:"
   ]
  },
  {
   "cell_type": "code",
   "execution_count": 5,
   "metadata": {
    "collapsed": false
   },
   "outputs": [],
   "source": [
    "from ponyge import Grammar\n",
    "\n",
    "G = Grammar(\n",
    "    \"\"\"<expr>   ::= <expr><op><expr> \\\n",
    "                  | (<expr><op><expr>) \\\n",
    "                  | <pre_op>(<expr>) \\\n",
    "                  | <var>\n",
    "       <op>     ::= + | - | * | / \n",
    "       <pre_op> ::= sin | cos | exp | log\n",
    "       <var>    ::= x | 1.0\n",
    "    \"\"\",\n",
    "    MAX_WRAPS=0)"
   ]
  },
  {
   "cell_type": "markdown",
   "metadata": {},
   "source": [
    "Y puedo obtener el fenotipo de un individuo cualquiera llamando al método **generate** del objeto que contiene la gramática. Nótese que el método generate devuelve:\n",
    "- el fenotipo del individuo de entrada si puede ser decodificado según la gramática. None en otro caso\n",
    "- el número de codones que se necesitan para la decodificación\n",
    "\n",
    "No todos los codones se corresponden con individuos que puedan ser decodificados según la gramática, según se ve en el siguiente experimento:"
   ]
  },
  {
   "cell_type": "code",
   "execution_count": 6,
   "metadata": {
    "collapsed": false
   },
   "outputs": [
    {
     "name": "stdout",
     "output_type": "stream",
     "text": [
      "('1.0', 2) generated in 1 rounds\n"
     ]
    }
   ],
   "source": [
    "import numpy as np\n",
    "\n",
    "i = 0\n",
    "while True:\n",
    "    i += 1\n",
    "    ind = [np.random.randint(0, 10) for _ in range(5)]\n",
    "    fen = G.generate(ind)\n",
    "    if fen[0]:\n",
    "        print fen, 'generated in %s rounds' % i\n",
    "        break"
   ]
  },
  {
   "cell_type": "markdown",
   "metadata": {
    "collapsed": true
   },
   "source": [
    "Por último, haciendo uso de las funciones anteriores, podemos construir la **función de evaluación genérica**, que dadas:\n",
    "- una función f\n",
    "- un individuo \n",
    "- un intervalo real D=[a,b]\n",
    "- y un valor N de muestreo en el intervalo\n",
    "\n",
    "nos devuelva el fitness del individuo, o None si se produce cualquier error en la evaluación. \n",
    "\n",
    "Por errores de evaluación se entiende:\n",
    "- el genotipo no puede traducirse en un fenotipo\n",
    "- el fenotipo en el que se deserializa el genotipo se corresponde con una función no definida en el interalo\n",
    "\n",
    "**Al devolver None en la evaluación del individuo en caso de que no sea válido, nos garantizamos que en el futuro podremos basarnos en ese valor para penalizar (ya veremos cómo) los individuos no válidos.**"
   ]
  },
  {
   "cell_type": "code",
   "execution_count": 7,
   "metadata": {
    "collapsed": false
   },
   "outputs": [],
   "source": [
    "from math import sin\n",
    "\n",
    "\n",
    "def mean_sqr_fitness(f, D, N, fen):\n",
    "    \"\"\"\n",
    "    Devuelve el fitness, visto como error cuadrático \n",
    "    medio en la aproximación a la derivada de f, \n",
    "    del fenotipo fen en el \n",
    "    intervalo D muestreado por N puntos.\n",
    "    Si se produce cualquier error\n",
    "    (típicamente divisiones por cero), se devuelve\n",
    "    None, valor que debe interpretarse como que \n",
    "    el individuo no es válido.    \n",
    "    \"\"\"\n",
    "    try:\n",
    "        A = derivative(f, D, N)\n",
    "        B = sample(fen, D, N)\n",
    "        return mean_square_error(A, B)\n",
    "    except:\n",
    "        return None"
   ]
  },
  {
   "cell_type": "markdown",
   "metadata": {},
   "source": [
    "## 3.3 Operadores de inicialización, variación y selección\n",
    "\n",
    "Para gestionar cómodamente los individuos utilizo la clase Individual. Esta clase contiene el genoma del individuo. Llamando al método **evaluate** con una gramática y una función fitness, se calcula el fenotipo, el fenotipo compilado (función lista para ser usada) y el fitness del individuo."
   ]
  },
  {
   "cell_type": "code",
   "execution_count": 8,
   "metadata": {
    "collapsed": false
   },
   "outputs": [],
   "source": [
    "import random\n",
    "from functools import partial\n",
    "\n",
    "\n",
    "class Individual(object):\n",
    "    \"\"\"Clase que representa los individuos\"\"\"\n",
    "\n",
    "    def __init__(self, genome=None, CODON_SIZE=127, LENGTH=100, PENALTY=1e6):\n",
    "        if genome == None:\n",
    "            self.genome = [\n",
    "                random.randint(0, CODON_SIZE) for _ in range(LENGTH)\n",
    "            ]\n",
    "        else:\n",
    "            self.genome = genome\n",
    "        self.phenotype = None\n",
    "        self.used_codons = 0\n",
    "        self.compiled_phenotype = None\n",
    "        self.fitness = 1e10\n",
    "\n",
    "    def __lt__(self, other):\n",
    "        return self.fitness < other.fitness \n",
    "\n",
    "    def __str__(self):\n",
    "        return (\n",
    "            \"Individual: \" + str(self.phenotype) + \"; \" + str(self.fitness))\n",
    "\n",
    "    def generate(self, G):\n",
    "        self.phenotype, self.used_codons = G.generate(self.genome)\n",
    "        return self.phenotype, self.used_codons\n",
    "        \n",
    "    def evaluate(self, G, fitness_f, PENALTY=1e6):\n",
    "        \"\"\"La función fitness_f admite como único \n",
    "        parámetro el fenotipo compilado\n",
    "        \"\"\"\n",
    "        self.generate(G)\n",
    "        if self.phenotype is None:\n",
    "            self.fitness = PENALTY\n",
    "        else:\n",
    "            self.compiled_phenotype = eval('lambda x:' + self.phenotype)\n",
    "            v = fitness_f(self.compiled_phenotype)\n",
    "            self.fitness = v if v else PENALTY"
   ]
  },
  {
   "cell_type": "markdown",
   "metadata": {},
   "source": [
    "Para la **selección**, la podemos hacer por torneo:"
   ]
  },
  {
   "cell_type": "code",
   "execution_count": 9,
   "metadata": {
    "collapsed": false
   },
   "outputs": [],
   "source": [
    "def tournament_selection(population, GENERATION_SIZE, TOURNAMENT_SIZE=3):\n",
    "    \"\"\"Selecciona por torneo.\"\"\"\n",
    "    winners = []\n",
    "    while len(winners) < GENERATION_SIZE:\n",
    "        competitors = random.sample(population, TOURNAMENT_SIZE)\n",
    "        competitors.sort()\n",
    "        winners.append(competitors[0])\n",
    "    return winners"
   ]
  },
  {
   "cell_type": "markdown",
   "metadata": {},
   "source": [
    "**Las mutaciones las realizo a nivel de codón**, no de bit, permitiendo que se parametrice la probabilidad de mutación:"
   ]
  },
  {
   "cell_type": "code",
   "execution_count": 10,
   "metadata": {
    "collapsed": true
   },
   "outputs": [],
   "source": [
    "def mutate(ind, CODON_SIZE, MUTATION_PROBABILITY=.0):\n",
    "    \"\"\"Muta un individuo a nivel de codón con\n",
    "    probabilidad MUTATION_PROBABILITY.\"\"\"\n",
    "    for i in range(len(ind.genome)):\n",
    "        if random.random() < MUTATION_PROBABILITY:\n",
    "            ind.genome[i] = random.randint(0, CODON_SIZE)\n",
    "    return ind"
   ]
  },
  {
   "cell_type": "markdown",
   "metadata": {},
   "source": [
    "Y **el cruce lo realizo por un único punto**. Conviene observar que permito parametrizar que el cruce se realize o no por partes del genoma que pertenecen a la sección del mismo que es relevante en su decodificación. Igualmente, la probabilidad de que se produzca el cruza o no (que se devuelvan clones de los padres) es también parametrizable."
   ]
  },
  {
   "cell_type": "code",
   "execution_count": 11,
   "metadata": {
    "collapsed": false
   },
   "outputs": [],
   "source": [
    "def onepoint_crossover(p_0, p_1, CROSSOVER_PROBABILITY=.1, WITHIN_USED=True):\n",
    "    \"\"\"Dados dos individuos, crea un hijo cruzándolos\n",
    "    por punto único. Si WITHIN_USED es True, el cruce\n",
    "    se produce por partes del genoma usadas en la \n",
    "    decodificación de los padres\"\"\"\n",
    "    c_p_0, c_p_1 = p_0.genome, p_1.genome\n",
    "    if WITHIN_USED:\n",
    "        max_p_0, max_p_1 = p_0.used_codons, p_1.used_codons\n",
    "    else:\n",
    "        max_p_0, max_p_1 = len(c_p_0), len(c_p_1)\n",
    "\n",
    "    pt_p_0 = random.randint(1, max_p_0)\n",
    "    pt_p_1 = random.randint(1, max_p_1)\n",
    "    if random.random() < CROSSOVER_PROBABILITY:\n",
    "        c_0 = c_p_0[:pt_p_0] + c_p_1[pt_p_1:]\n",
    "        c_1 = c_p_1[:pt_p_1] + c_p_0[pt_p_0:]\n",
    "    else:\n",
    "        c_0, c_1 = c_p_0[:], c_p_1[:]\n",
    "\n",
    "    return Individual(c_0), Individual(c_1)"
   ]
  },
  {
   "cell_type": "markdown",
   "metadata": {},
   "source": [
    "Y por último, el método de **reemplazo, generacional con elitismo 1 por defecto,** aunque es configurable:"
   ]
  },
  {
   "cell_type": "code",
   "execution_count": 12,
   "metadata": {
    "collapsed": true
   },
   "outputs": [],
   "source": [
    "import copy\n",
    "\n",
    "\n",
    "def generational_replacement(new_pop, pop, GENERATION_SIZE, ELITE_SIZE=1):\n",
    "    \"\"\"Devuelve la nueva población a partir \n",
    "    de la actual y la anterior aplicando elitismo\"\"\"\n",
    "    pop.sort()\n",
    "    for ind in pop[:ELITE_SIZE]:\n",
    "        new_pop.append(copy.copy(ind))\n",
    "    new_pop.sort()\n",
    "    return new_pop[:GENERATION_SIZE]"
   ]
  },
  {
   "cell_type": "markdown",
   "metadata": {},
   "source": [
    "## 3.4 Implementación del algoritmo principal\n",
    "\n",
    "Por último, podemos implementar, con todas las funcionalidades anteriores, el algoritmo que gobernará nuestro programa de evolución gramátical."
   ]
  },
  {
   "cell_type": "code",
   "execution_count": 13,
   "metadata": {
    "collapsed": false
   },
   "outputs": [],
   "source": [
    "def go_live(f, D, N, config):\n",
    "    \"\"\"Ejecuta el programa de evolución gramatical\n",
    "    Args:\n",
    "        - f: la función cuya derivada buscamos\n",
    "        - config: la configuración del algoritmo\n",
    "    Devuelve el histórico de mejores individuos \n",
    "    por generación.\n",
    "    \"\"\"\n",
    "\n",
    "    GRAMMAR = config['GRAMMAR']\n",
    "    MAX_WRAPS = config['MAX_WRAPS']\n",
    "    CODON_SIZE = config['CODON_SIZE']\n",
    "    INITIAL_IND_LENGTH = config['INITIAL_IND_LENGTH']\n",
    "    WORNG_IND_PENALTY = config['WORNG_IND_PENALTY']\n",
    "    POPULATION_SIZE = config['POPULATION_SIZE']\n",
    "    GENERATION_SIZE = config['GENERATION_SIZE']\n",
    "    MAX_GENERATIONS = config['MAX_GENERATIONS']\n",
    "    STOP_ON_FITNESS = config['STOP_ON_FITNESS']\n",
    "    MUTATION_PROBABILITY = config['MUTATION_PROBABILITY']\n",
    "    CROSSOVER_PROBABILITY = config['CROSSOVER_PROBABILITY']\n",
    "    WITHIN_USED = config['WITHIN_USED']\n",
    "    TOURNAMENT_SIZE = config['TOURNAMENT_SIZE']\n",
    "    ELITE_SIZE = config['ELITE_SIZE']\n",
    "\n",
    "    # Definimos la gramática y la función fitness\n",
    "    G = Grammar(GRAMMAR, MAX_WRAPS)\n",
    "    FITNESS = partial(mean_sqr_fitness, f, D, N)\n",
    "\n",
    "    # Población inicial (válida)\n",
    "    population = []\n",
    "    while len(population) < POPULATION_SIZE:\n",
    "        ind = Individual(\n",
    "            CODON_SIZE=CODON_SIZE,\n",
    "            LENGTH=INITIAL_IND_LENGTH,\n",
    "            PENALTY=WORNG_IND_PENALTY)\n",
    "        if ind.generate(G)[0] is not None:\n",
    "            population.append(ind)\n",
    "\n",
    "    # Evaluamos la población inicial\n",
    "    for ind in population:\n",
    "        ind.evaluate(G, FITNESS)\n",
    "\n",
    "    population.sort()\n",
    "    best = population[0]\n",
    "    history = [best]\n",
    "\n",
    "    generation = 0\n",
    "    while generation < MAX_GENERATIONS \\\n",
    "        and STOP_ON_FITNESS < best.fitness:\n",
    "\n",
    "        # Seleccionamos los padres\n",
    "        parents = tournament_selection(\n",
    "            population, GENERATION_SIZE, TOURNAMENT_SIZE=TOURNAMENT_SIZE)\n",
    "\n",
    "        # Cruzamos los padres -> nueva población\n",
    "        new_population = []\n",
    "        while len(new_population) < GENERATION_SIZE:\n",
    "            A, B = random.sample(parents, 2)\n",
    "            C = onepoint_crossover(\n",
    "                A,\n",
    "                B,\n",
    "                CROSSOVER_PROBABILITY=CROSSOVER_PROBABILITY,\n",
    "                WITHIN_USED=WITHIN_USED)\n",
    "            new_population.extend(C)\n",
    "\n",
    "        # Mutamos la nueva población\n",
    "        for ind in new_population:\n",
    "            mutate(ind, CODON_SIZE, MUTATION_PROBABILITY=MUTATION_PROBABILITY)\n",
    "\n",
    "        # Evaluamos el fitness de la nueva población\n",
    "        for ind in new_population:\n",
    "            ind.evaluate(G, FITNESS)\n",
    "\n",
    "        # Procedemos al reemplazo generacional\n",
    "        population = generational_replacement(\n",
    "            new_population,\n",
    "            population,\n",
    "            GENERATION_SIZE=GENERATION_SIZE,\n",
    "            ELITE_SIZE=ELITE_SIZE)\n",
    "\n",
    "        population.sort()\n",
    "        best = population[0]\n",
    "        history.append(best)\n",
    "        generation += 1\n",
    "\n",
    "    return history"
   ]
  },
  {
   "cell_type": "markdown",
   "metadata": {},
   "source": [
    "## 3.5 Parametrización\n",
    "\n",
    "Una ejecución del algoritmo puede ser parametrizada utilizando un diccionario con las siguientes propiedades:\n",
    "- **GRAMMAR**: un texto representando la gramática a usar\n",
    "- **MAX_WRAPS**: máximo número de vueltas que se le permite dar al codón para obtener el fenotipo por el proceso de aplicar la gramática\n",
    "- **CODON_SIZE**: valor máximo permitido de los enteros que componen el codón de un individuo\n",
    "- **INITIAL_IND_LENGTH**: tamaño de los codones de los individuos que se generan inicialmente\n",
    "- **WORNG_IND_PENALTY**: valor del fitnes (alto para que penalice) que se aplica a individuos que representa fenotipos no válidos en el contexto del problema a resolver (básicamente funciones no definidas en el intervalo)\n",
    "- **POPULATION_SIZE**: tamaño de la población inicial\n",
    "- **GENERATION_SIZE**: tamaño de las generaciones\n",
    "- **MAX_GENERATIONS**: número máximo de generaciones que si se alcanza da por acabado el experimento\n",
    "- **STOP_ON_FITNESS**: valor que determina que el experimento acaba si el mejor individuo de una generación tiene un fitness menor\n",
    "- **MUTATION_PROBABILITY**: probabilidad de que se produzca la mutación en un individio\n",
    "- **CROSSOVER_PROBABILITY**: probabilidad de que se produzca el cruce entre dos individuos\n",
    "- **WITHIN_USED**: parámetro que si es True provoca que los cruces entre individuos se produzcan entre partes de sus codones relevantes en su construcción del fenotipo\n",
    "- **TOURNAMENT_SIZE**: tamaño del torneo en el proceso de selección de los individuos de la siguiente generación\n",
    "- **ELITE_SIZE**: tamaño en la selección de la élite\n",
    "\n",
    "Por ejemplo, para probar que todo compila bien y que podemos hacer experimentos con distintas configuraciones, vamos a hacer una ejecución mínima. Nótese que la siguiente función nos ayudará a generar configuraciones basadas en una por defecto, sobre la que podremos ir modificando parámetros."
   ]
  },
  {
   "cell_type": "code",
   "execution_count": 14,
   "metadata": {
    "collapsed": false
   },
   "outputs": [],
   "source": [
    "DEFAULT_GRAMMAR = \"\"\"\n",
    "<expr>   ::= <expr><op><expr> \\\n",
    "           | (<expr><op><expr>) \\\n",
    "           | <pre_op>(<expr>) \\\n",
    "           | <var>\n",
    "<op>     ::= + | - | * | / \n",
    "<pre_op> ::= sin | cos | exp | log\n",
    "<var>    ::= x | 1.0 \n",
    "\"\"\"\n",
    "\n",
    "\n",
    "def default_config(MAX_WRAPS=0,\n",
    "                   CODON_SIZE=127,\n",
    "                   INITIAL_IND_LENGTH=50,\n",
    "                   WORNG_IND_PENALTY=1e6,\n",
    "                   POPULATION_SIZE=100,\n",
    "                   GENERATION_SIZE=100,\n",
    "                   MAX_GENERATIONS=100,\n",
    "                   STOP_ON_FITNESS=1e-3,\n",
    "                   MUTATION_PROBABILITY=0.1,\n",
    "                   CROSSOVER_PROBABILITY=0.1,\n",
    "                   WITHIN_USED=True,\n",
    "                   TOURNAMENT_SIZE=2,\n",
    "                   ELITE_SIZE=2,\n",
    "                   GRAMMAR=DEFAULT_GRAMMAR):\n",
    "    return {\n",
    "        'MAX_WRAPS': MAX_WRAPS,\n",
    "        'CODON_SIZE': CODON_SIZE,\n",
    "        'INITIAL_IND_LENGTH': INITIAL_IND_LENGTH,\n",
    "        'WORNG_IND_PENALTY': WORNG_IND_PENALTY,\n",
    "        'POPULATION_SIZE': POPULATION_SIZE,\n",
    "        'GENERATION_SIZE': GENERATION_SIZE,\n",
    "        'MAX_GENERATIONS': MAX_GENERATIONS,\n",
    "        'STOP_ON_FITNESS': STOP_ON_FITNESS,\n",
    "        'MUTATION_PROBABILITY': MUTATION_PROBABILITY,\n",
    "        'CROSSOVER_PROBABILITY': CROSSOVER_PROBABILITY,\n",
    "        'WITHIN_USED': WITHIN_USED,\n",
    "        'TOURNAMENT_SIZE': TOURNAMENT_SIZE,\n",
    "        'ELITE_SIZE': ELITE_SIZE,\n",
    "        'GRAMMAR': DEFAULT_GRAMMAR\n",
    "    }\n",
    "\n",
    "\n",
    "# for h in go_live(lambda x: 2*x, [0, 1], 10, default_config()):\n",
    "#     print h"
   ]
  },
  {
   "cell_type": "markdown",
   "metadata": {},
   "source": [
    "El resultado ha sido:\n",
    "```python\n",
    "Individual: 1.0/1.0+x; 0.35\n",
    "Individual: 1.0/1.0+x; 0.35\n",
    "Individual: cos(sin(x))+1.0; 0.0310776536256\n",
    "Individual: 1.0+1.0; 6.99217620537e-31\n",
    "```\n",
    "\n",
    "Resultado que, para ser el primero, sin optimización de parámetros ninguna, ofrece un comportamiento espectacular.\n"
   ]
  },
  {
   "cell_type": "markdown",
   "metadata": {},
   "source": [
    "## 3.6  Manejo de restricciones y mecanismos de control de parámetros adaptativos o auto-adaptativos\n",
    "\n",
    "Sinceramente, no he tenido tiempo de profundizar en hacer que los parámetros del algoritmo sean adaptativos. Ya en la segunda práctica trabajé esta parte con profundidad y, como digo, por cuestiones de tiempo no me veo capaz de incluirlo en ésta.\n",
    "\n",
    "En cuanto al manejo de restricciones, como he indicado más arriba, procedo de dos modos:\n",
    "- en la población inicial me aseguro de que todos los individuos son válidos, es decir, pueden decodificarse en un fenotipo válido\n",
    "- en el cálculos del fitness de los individuos, aquellos cuyo fenotipo acaba siendo una función no definida en el intervalo de estudio, son penalizados con un fitness muy alto por lo que están condenados a la extinción\n",
    "\n",
    "# 4 Utilidades de interpretación de resultados\n",
    "\n",
    "## 4.1 Plots de progreso en escala logarítmica\n",
    "\n",
    "En primer lugar es necesario poder dibujar las gráficos de progreso de la convergencia a la solución. \n",
    "\n",
    "Nótese el uso de la **escala logarítmica** para que las diferencias entre los individuos de las primeras generaciones (típicamente muy lejanos al óptimo) y los de las últimas no aberren los gráficos."
   ]
  },
  {
   "cell_type": "code",
   "execution_count": 15,
   "metadata": {
    "collapsed": false
   },
   "outputs": [
    {
     "data": {
      "image/png": "[encoded data removed]",
      "text/plain": [
       "<matplotlib.figure.Figure at 0x7f69c3a83c50>"
      ]
     },
     "metadata": {},
     "output_type": "display_data"
    }
   ],
   "source": [
    "import matplotlib.pyplot as plt\n",
    "import math\n",
    "\n",
    "\n",
    "def log_plot(individuals, text):\n",
    "    \"\"\" Dibuja el logaritmo del fitness de una \n",
    "    lista de individuos.\"\"\"\n",
    "    plt.plot([math.log(i.fitness + 1) for i in individuals])\n",
    "    plt.ylabel('log (best individual fitness)')\n",
    "    plt.xlabel('generation')\n",
    "    plt.figtext(0, -.1, text, fontsize='x-large')\n",
    "    plt.show()\n",
    "\n",
    "\n",
    "log_plot(\n",
    "    go_live(lambda x: x**2, [0, 1], 100, default_config()),\n",
    "    'Figura 1: Prueba de representacion de prograso del fitness en escala logaritmica'\n",
    ")"
   ]
  },
  {
   "cell_type": "markdown",
   "metadata": {},
   "source": [
    "# 4.2 Índices SR, MBF y AES"
   ]
  },
  {
   "cell_type": "code",
   "execution_count": 16,
   "metadata": {
    "collapsed": false
   },
   "outputs": [],
   "source": [
    "import numpy\n",
    "\n",
    "def SR(histories, umbral_exito=1e-6):\n",
    "    \"\"\" \n",
    "    Calcula el porcentaje de experimentos que \n",
    "    acaban con éxito, teniendo en cuenta el \n",
    "    parámetro umbral_exito.\n",
    "    \"\"\"\n",
    "    exitos = filter(lambda h: h[-1].fitness < umbral_exito, histories)\n",
    "    return float(len(exitos)) / len(histories)\n",
    "\n",
    "\n",
    "def AES(histories, GENERATION_SIZE, umbral_exito=1e-6):\n",
    "    \"\"\"\n",
    "    Calcula el número medio de evaluaciones \n",
    "    y su desviación típica para aquellos \n",
    "    experimentos que fueron exitosos.\n",
    "    \"\"\" \n",
    "    exitos = filter(lambda h: h[-1].fitness < umbral_exito, histories)    \n",
    "    totals = []\n",
    "    for e in exitos:\n",
    "        index = 0\n",
    "        while umbral_exito < e[index].fitness:\n",
    "            index += 1\n",
    "        totals.append(index * GENERATION_SIZE)\n",
    "    return np.mean(totals), np.std(totals)\n",
    "\n",
    "def MBF(histories):\n",
    "    \"\"\"\n",
    "    Calcula la media y la desciación típica \n",
    "    del fitness del mejor individuo encontrado\n",
    "    \"\"\"\n",
    "    A = [h[-1].fitness for h in histories]\n",
    "    return np.mean(A), np.std(A)"
   ]
  },
  {
   "cell_type": "markdown",
   "metadata": {},
   "source": [
    "Y añado además una función que me facilita la presentación de resultados en forma de tabla:"
   ]
  },
  {
   "cell_type": "code",
   "execution_count": 18,
   "metadata": {
    "collapsed": false
   },
   "outputs": [],
   "source": [
    "import pandas as pd\n",
    "pd.set_option('display.notebook_repr_html', True)\n",
    "\n",
    "# def _repr_latex_(self):\n",
    "#     return self.to_latex()\n",
    "# pd.DataFrame._repr_latex_ = _repr_latex_\n",
    "\n",
    "pd.DataFrame._repr_latex_ = lambda x: x._repr_latex_\n",
    "\n",
    "\n",
    "def render_metrics(histories, GENERATION_SIZE=None, umbral_exito=None):\n",
    "    \"\"\"\n",
    "    Dibuja de forma tabulada las métricas de \n",
    "    rendimiento de una lista de experimentos\n",
    "    dados por el histórico de mejores individuos.\n",
    "    \"\"\"\n",
    "    data = {'MBF': MBF(histories)}\n",
    "    if umbral_exito is not None:\n",
    "        data['SR'] = SR(histories, umbral_exito=umbral_exito)\n",
    "        if GENERATION_SIZE is not None:\n",
    "            data['AES'] = AES(histories,\n",
    "                              umbral_exito=umbral_exito,\n",
    "                              GENERATION_SIZE=GENERATION_SIZE)\n",
    "    return pd.DataFrame(data)"
   ]
  },
  {
   "cell_type": "code",
   "execution_count": null,
   "metadata": {
    "collapsed": true
   },
   "outputs": [],
   "source": [
    "\n",
    "render_metrics(histories, GENERATION_SIZE=100, umbral_exito=1e-2)"
   ]
  },
  {
   "cell_type": "markdown",
   "metadata": {},
   "source": []
  },
  {
   "cell_type": "code",
   "execution_count": null,
   "metadata": {
    "collapsed": true
   },
   "outputs": [],
   "source": []
  }
 ],
 "metadata": {
  "abstract": "TODO: Poner el abstract.",
  "anaconda-cloud": {},
  "author": "Andrés Mañas Mañas",
  "kernelspec": {
   "display_name": "Python 2",
   "language": "python",
   "name": "python2"
  },
  "language_info": {
   "codemirror_mode": {
    "name": "ipython",
    "version": 2
   },
   "file_extension": ".py",
   "mimetype": "text/x-python",
   "name": "python",
   "nbconvert_exporter": "python",
   "pygments_lexer": "ipython2",
   "version": "2.7.13"
  },
  "latex_envs": {
   "bibliofile": "biblio.bib",
   "cite_by": "apalike",
   "current_citInitial": 1,
   "eqLabelWithNumbers": true,
   "eqNumInitial": 0
  },
  "title": "Computación evolutiva: tercera práctica",
  "toc": {
   "colors": {
    "hover_highlight": "#DAA520",
    "running_highlight": "#FF0000",
    "selected_highlight": "#FFD700"
   },
   "moveMenuLeft": true,
   "navigate_menu": false,
   "number_sections": true,
   "sideBar": false,
   "threshold": 4,
   "toc_cell": true,
   "toc_position": {
    "height": "403px",
    "left": "1600px",
    "right": "20px",
    "top": "108px",
    "width": "307px"
   },
   "toc_section_display": "block",
   "toc_window_display": true
  }
 },
 "nbformat": 4,
 "nbformat_minor": 1
}
