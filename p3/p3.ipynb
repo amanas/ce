{
 "cells": [
  {
   "cell_type": "markdown",
   "metadata": {
    "collapsed": true
   },
   "source": [
    "1. Bibliografía:\n",
    "  - El **tema 6** permitirá al alumno familiarizarse con la programación genética (PG) \n",
    "  - y, **el mencionado artículo**, con una de las variantes de la PG, denominada Evolución Gramatical (del inglés Grammatical Evolution, GE). \n",
    "  - El **capítulo 8** describe distintos mecanismos para sintonizar de forma adaptativa cada uno de los diferentes parámetros de los que consta un algoritmo evolutivo (AE). \n",
    "  - El **capítulo 10** describe la forma de hibridar un AE con otros métodos de búsqueda. \n",
    "  - Finalmente, en el **capítulo 12**, se muestran distintas estrategias para manejar la existencia de restricciones en problemas de optimización que son abordados mediante AEs.\n",
    "  \n",
    "2. Secciones\n",
    "  - Descripción del problema a resolver\n",
    "  - Método para resolverlo \n",
    "    - se debe analizar la idoneidad o no del uso de GE para resolver el problema planteado\n",
    "    - se debe incluir la expresión matemática de la función de evaluación finalmente empleada\n",
    "    - se debe incluir la descripción de los diferentes operadores de inicialización, variación y selección empleados\n",
    "    - se debe incluir la forma de manejar las restricciones, los mecanismos de control de parámetros utilizados, así como los mecanismos de búsqueda local implementados\n",
    "  - Los resultados de los distintos experimentos realizados\n",
    "  - Un análisis y comparación de resultados\n",
    "  - Una sección de conclusiones\n",
    "  - Una descripción del código implementado. \n",
    "\n",
    "3. Evaluación\n",
    "  - Sobre la presentación (2/10)\n",
    "    - Se evaluará especialmente la claridad en la redacción de la memoria y la capacidad de síntesis.  \n",
    "  - Sobre el manejo de restricciones (1/10)\n",
    "      - Se valorará la originalidad del mecanismo o mecanismos usados para el manejo de restricciones.\n",
    "  - Sobre la configuración del algoritmo (2/10)\n",
    "    - Aquí se valorará el procedimiento seguido por el alumno a la hora de elegir la mejor configuración de parámetros del algoritmo, incluyendo la implementación de mecanismos de control de parámetros adaptativos o auto-adaptativos\n",
    "  - Sobre la hibridación del algoritmo con técnicas de búsqueda local (1/10)\n",
    "    - Se valorará la originalidad del mecanismo de búsqueda local utilizado.\n",
    "  - Sobre el análisis y comparación de resultados, y conclusiones (4/10)\n",
    "    - Se valorará la forma de interpretar y comparar los diferentes experimentos realizados.\n",
    "      - Es muy importante que dicha valoración se haga siempre en términos de los índices SR, MBF, AES \n",
    "      - y cualquier otra gráfica que considere oportuna como, por ejemplo, los plots de progreso de convergencia. \n",
    "    - Finalmente, se valorará la calidad de las conclusiones obtenidas a partir de la interpretación y comparación de resultados.\n"
   ]
  },
  {
   "cell_type": "markdown",
   "metadata": {},
   "source": [
    "#1. Descripción del problema a resolver\n",
    "\n",
    "Repitiendo las indicaciones dadas en el documento de la actividad, el problema consiste en implementar un algoritmo evolutivo para calcular la derivada simbólica de una función \n",
    "$$ f:X \\subseteq \\mathcal{R} \\rightarrow \\mathcal{R} $$ \n",
    "\n",
    "Disponemos de las siguientes dos definiciones:\n",
    "\n",
    "> **Definición de derivada de una función en un punto**: Sea $X \\subseteq \\mathcal{R}$ un intervalo abierto. Diremos que $f:X \\subseteq \\mathcal{R} \\rightarrow \\mathcal{R}$ es derivable en $x_0 \\in X$, denotado por $f'(x_0)$, si existe y es finito el límite:\n",
    "$$\n",
    "f'(x_0) = \\lim \\limits_{h \\to 0} \\frac{f(x_0+h)-f(x_0)}{h}  \\tag{1}\n",
    "$$\n",
    "\n",
    "> **Definición de derivada de una función en un intervalo**: Sea $X \\subseteq \\mathcal{R}$ un intervalo abierto. Diremos que $f:X \\subseteq \\mathcal{R} \\rightarrow \\mathcal{R}$ es derivable en el intervalo $[a,b] \\subseteq X$, si $f$ es derivable en cada uno de los puntos de dicho intervalo, es decir, si:\n",
    "$$\n",
    "f'(x) = \\lim \\limits_{h \\to 0} \\frac{f(x+h)-f(x)}{h}, \\forall x \\in [a,b]  \\tag{2}\n",
    "$$\n",
    "\n",
    "Suponiendo que $f$ sea derivable en $[a,b]$, el problema de calcular la derivada lo vamos a transformar en un nuevo problema de optimización consistente en encontrar una función $g(x)$ que minimice la expresión:\n",
    "$$\n",
    "\\min \\limits_{g(x)} \\frac{1}{b-a}\\int_{a}^{b} error[f'(x),g(x)]dx \\tag{3}\n",
    "$$\n",
    "\n",
    "dónde $f'(x)$ se calcularía utilizando la expresión $(2)$.\n",
    "\n",
    "No obstante, el problema anterior se puede resolver de forma aproximada discretizando el intervalo de definición, es decir, cambiando el operador integral por un sumatorio:\n",
    "$$\n",
    "\\min \\limits_{g(x)} \\frac{1}{N+1}\\sum_{i=0}^{N} error_i[f'(a+i*h),g(a+i*h)] \\tag{4}\n",
    "$$\n",
    "dónde $h=\\frac{b-a}{N}$ es la anchura del subintervalo de muestreo para conseguir muestrear $N+1$ puntos en el intervalo $[a,b]$, y $f'(a+i*h)$ viene dado por:\n",
    "$$\n",
    "f'(a+i*h)=\\frac{f(a+(i+1)*h) - f(a+i*h)}{h}, \\forall i \\in \\{0,1,...,N\\} \\tag{5}\n",
    "$$"
   ]
  },
  {
   "cell_type": "markdown",
   "metadata": {},
   "source": [
    "#2.  Método para resolverlo\n",
    "\n",
    "##2.1. Breve introducción a la GE\n",
    "\n",
    "La evolución gramatical codifica un conjunto de números pseudo aleatorios **(codones)** en un cromosoma que consiste en un número variable de genes binarios de 8 bits. \n",
    "\n",
    "Estos números se usan para seleccionar una regla apropiada a partir de una definición de gramática con **notación Backus-Naur (BNF)**.\n",
    "\n",
    "**Una gramática de BNF consiste en** la tupla \n",
    "$$  \\{N, T, P, S \\} $$\n",
    "dónde:\n",
    "- N es el conjunto de no terminales, \n",
    "- T, el conjunto de terminales\n",
    "- P, un conjunto de reglas de producción que mapean los elementos de N a T \n",
    "- S es un símbolo de inicio que es un miembro de N. \n",
    "  \n",
    "Los no terminales de la gramática se mapean en los terminales de la gramática mediante la aplicación recursiva de las reglas dictadas por los valores de los genes. Al finalizar el proceso de mapeo, el código final producido (fenotipo) está formado sólo por terminales.\n",
    "\n",
    "Por ejemplo, si consideramos esta gramática BNF:\n",
    "\n",
    "```\n",
    "N = { expr, op, pre_op } \n",
    "T = { Sin, Cos, Tan, Log, +, -, /, *, X, () } \n",
    "S = <expr>\n",
    "```\n",
    "\n",
    "Y representamos P por:\n",
    "\n",
    "```\n",
    "(1) <expr> ::= <expr> <op> <expr>     (A) \n",
    "             | ( <expr> <op> <expr> ) (B)\n",
    "             | <pre-op> ( <expr> )    (C) \n",
    "             | <var>                  (D)\n",
    "(2) <op> ::= + (A)  \n",
    "           | - (B) \n",
    "           | / (C) \n",
    "           | * (D)\n",
    "(3) <pre-op> ::= Sin (A)  \n",
    "               | Cos (B) \n",
    "               | Tan (C) \n",
    "               | Log (D)\n",
    "(4) <var> ::= X\n",
    "```\n",
    "\n",
    "Consideremos la regla (1):\n",
    "\n",
    "```\n",
    "(1) <expr> ::= <expr> <op> <expr> \n",
    "             | ( <expr> <op> <expr> ) \n",
    "             | <pre-op> ( <expr> ) \n",
    "             | <var>\n",
    "```\n",
    "\n",
    "En este caso, el no terminal puede producir uno de cuatro resultados diferentes, para decidir cuál utilizar nuestro sistema toma el siguiente número aleatorio disponible del cromosoma y, en este caso obtiene el módulo cuatro del número para decidir qué regal de producción toma. \n",
    "\n",
    "Cada vez que se tiene que tomar una decisión, se lee otro número pseudo aleatorio del cromosoma, y de esta manera, el sistema atraviesa el cromosoma.\n",
    "\n",
    "En GE es posible que los individuos se queden sin genes durante el proceso de mapeo, y en este caso hay dos alternativas:\n",
    "- La primera es declarar al individuo inválido y castigarlos con un valor de fitness adecuado\n",
    "- La segunda es envolver al individuo y reutilizar los genes. Este es un enfoque bastante inusual en EAs, ya que es completamente posible que ciertos genes se usen dos o más veces. \n",
    "\n",
    "**Lo que es crucial, sin embargo, es que cada vez que un individuo en particular es mapeado de su genotipo a su fenotipo, se genera la misma salida. Esto se garantiza por el proceso de mapeo descrito anteriormente.**\n",
    "\n",
    "##2.2. Idoneidad de GE para resolver el problema\n",
    "\n",
    "Nuestro problema consiste en encontrar la derivada de una función probando/evolucionando distintas combinaciones de otras dadas.\n",
    "\n",
    "Según leemos en [grammatical-evolution.org](http://www.grammatical-evolution.org/papers/gp98/node1.html): \n",
    "\n",
    "> *GE has proved successful when applied to a symbolic regression problem [Ryan 98a], and finding trigonometric identities [Ryan 98b], here we apply GE to a symbolic integration problem taken from the literature [Koza 92]. This involves finding a function which is an integral of Cos(X)+2X+1. In each of these cases we take a subset of C as our target language which is described in Backus Naur Form definition. A Steady State selection mechanism [Syswerda 89] has been employed and was found to reduce the number of generations required to achieve a correct solution. Using this selection mechanism we reapplied our system to the two problems previously tackled and again found an improvement in performance for both of these problems.*\n",
    "\n",
    "Por lo tanto, según esta referencia, parece que utilizar una técnica evolutiva basada en Evolución Gramatical podría ser la forma más indicada.\n",
    "\n",
    "Además, teniendo en cuenta que el fundamente de la evolución gramatical se basa en definir una gramática que representa las formas válidas que pueden adoptar los individuos, y teniendo en cuenta que una función objetivo puede alcanzarse como combinación de operadores, números y otras funciones básicas, parece bastante natural que el problema de encontrar la derivadda de una función pueda abordar con técnicas de GE.\n",
    "\n",
    "#2.3. Expresión matemática de la función de evaluación\n",
    "\n",
    "Primero necesitamos una función que nos permita tomar $N$ muestras del valor de la derivada de una función $f$ en un intervalo $d = [a,b]$."
   ]
  },
  {
   "cell_type": "code",
   "execution_count": 99,
   "metadata": {
    "collapsed": false
   },
   "outputs": [],
   "source": [
    "from math import sin, cos, exp, log\n",
    "\n",
    "def muestrea_derivada(f, d, N):    \n",
    "    \"\"\"\n",
    "    Calcula los valores aproximados de la derivada\n",
    "    de f en el intervalo d tomando N muestras    \n",
    "    \"\"\"\n",
    "    a,b = d\n",
    "    h = float(b-a)/N\n",
    "    return [(f(a + (i+1)*h) - f(a + i*h))/h \n",
    "            for i in range(N+1)]\n",
    "\n",
    "# muestrea_derivada(sin, [0,1], 10)"
   ]
  },
  {
   "cell_type": "markdown",
   "metadata": {},
   "source": [
    "Necesitamos además poder tomar $N$ muestras de la función dada por el fenotipo de un individuo en un intervalo $d=[a,b]$"
   ]
  },
  {
   "cell_type": "code",
   "execution_count": 100,
   "metadata": {
    "collapsed": false
   },
   "outputs": [],
   "source": [
    "def muestrea_fenotipo(fen, d, N):\n",
    "    \"\"\"\n",
    "    Calcula los valores de la función que se \n",
    "    corresponde con el fenotipo fen \n",
    "    en el intervalo d tomando N muestras    \n",
    "    \"\"\"\n",
    "    a,b = d\n",
    "    h = float(b-a)/N\n",
    "    f = eval('lambda x:' + fen)\n",
    "    return [f(a + i*h) for i in range(N+1)]\n",
    "\n",
    "# muestrea_fenotipo('cos(x)', [0,1], 10)"
   ]
  },
  {
   "cell_type": "markdown",
   "metadata": {},
   "source": [
    "Y por último, podemos construir la función que determina el error cometido al considerar un fenotipo $ \\text{fen}$ como la derivada de una función $f$.\n",
    "\n",
    "La función de evaluación viene dada por la expresión (4) indicada en el enunciado de la práctica. Existen diferentes formas de calcular el error; en esta práctica vamos a utilizar el error cuadrático.\n"
   ]
  },
  {
   "cell_type": "code",
   "execution_count": 109,
   "metadata": {
    "collapsed": false
   },
   "outputs": [
    {
     "data": {
      "text/plain": [
       "20.5"
      ]
     },
     "execution_count": 109,
     "metadata": {},
     "output_type": "execute_result"
    }
   ],
   "source": [
    "def error(l1,l2):\n",
    "    \"\"\"\n",
    "    Calcula el error cuadrático medio\n",
    "    entre dos listas de números\n",
    "    \"\"\" \n",
    "    squares = [(l1[i] - l2[i])**2 \n",
    "               for i in range(len(l1))]\n",
    "    return sum(squares)/float(len(l1))\n",
    "    \n",
    "# error([4,5],[0,0])"
   ]
  },
  {
   "cell_type": "markdown",
   "metadata": {},
   "source": [
    "Así por ejemplom, para el caso de seno y coseno, podemos hacer esta prueba:"
   ]
  },
  {
   "cell_type": "code",
   "execution_count": 108,
   "metadata": {
    "collapsed": false
   },
   "outputs": [
    {
     "ename": "SyntaxError",
     "evalue": "unexpected EOF while parsing (<ipython-input-108-1043dbf7d862>, line 3)",
     "output_type": "error",
     "traceback": [
      "\u001b[0;36m  File \u001b[0;32m\"<ipython-input-108-1043dbf7d862>\"\u001b[0;36m, line \u001b[0;32m3\u001b[0m\n\u001b[0;31m    print('un error pequeño %', error(l,r)\u001b[0m\n\u001b[0m                                          ^\u001b[0m\n\u001b[0;31mSyntaxError\u001b[0m\u001b[0;31m:\u001b[0m unexpected EOF while parsing\n"
     ]
    }
   ],
   "source": [
    "l = muestrea_derivada(sin, [0,1], 10)\n",
    "r = muestrea_fenotipo('cos(x)', [0,1], 10)\n",
    "print('un error pequeño %', error(l,r)"
   ]
  },
  {
   "cell_type": "markdown",
   "metadata": {},
   "source": [
    "Para cada experimento tendremos:\n",
    "- una gramática BNF que nos permite construir el fenotipo desde el genotipo\n",
    "- individuos, cuyo genotipo son listas de enteros (codones)\n",
    "- una función f cuya derivada queremos calcular \n",
    "- un intervalo en el que la función es derivable\n",
    "- una expresión de cálculo del error cometido por cada individuo considerado éste como derivada de la función f"
   ]
  },
  {
   "cell_type": "code",
   "execution_count": 40,
   "metadata": {
    "collapsed": false
   },
   "outputs": [
    {
     "name": "stdout",
     "output_type": "stream",
     "text": [
      "('x', 2)\n",
      "('x', 2)\n",
      "('cos(1.0)', 4)\n",
      "('x', 2)\n",
      "('x', 2)\n",
      "('exp(x)', 4)\n",
      "('sin(exp(x))', 6)\n",
      "('(x-1.0)', 6)\n",
      "('1.0+x', 6)\n",
      "('x', 2)\n",
      "('x', 2)\n",
      "('sin(1.0)', 4)\n",
      "('log(log(sin(x)))', 8)\n",
      "('x', 2)\n",
      "('x', 2)\n",
      "('x', 2)\n",
      "('x', 2)\n",
      "('sin(x)', 4)\n",
      "('1.0', 2)\n",
      "('exp(x)', 4)\n",
      "('1.0', 2)\n",
      "('x', 2)\n",
      "('sin(x-1.0)', 8)\n",
      "('exp(1.0)', 4)\n",
      "('x', 2)\n",
      "('1.0', 2)\n",
      "('(x+1.0)', 6)\n",
      "('1.0', 2)\n",
      "('1.0', 2)\n",
      "('sin(x)', 4)\n",
      "('x', 2)\n",
      "('x', 2)\n",
      "('1.0', 2)\n",
      "('1.0', 2)\n",
      "('x', 2)\n",
      "('x', 2)\n",
      "('1.0', 2)\n",
      "('exp(1.0)', 4)\n",
      "('x', 2)\n",
      "('x', 2)\n",
      "('1.0', 2)\n",
      "('1.0', 2)\n",
      "('sin(x)', 4)\n",
      "('1.0', 2)\n",
      "('(1.0-1.0)*x', 10)\n",
      "('cos((1.0+1.0))', 8)\n",
      "('1.0+1.0', 6)\n",
      "('x', 2)\n",
      "('x', 2)\n",
      "('x', 2)\n"
     ]
    }
   ],
   "source": [
    "import sys\n",
    "sys.path.insert(0, 'ponyge/src')\n",
    "\n",
    "import ponyge as p\n",
    "import numpy as np\n",
    "\n",
    "def set_up_grammar(g):\n",
    "    f = open(\"grammar.bnf\", \"w\")\n",
    "    f.write(g)\n",
    "    f.close()\n",
    "    \n",
    "set_up_grammar(\"\"\"\n",
    "<expr>   ::= <expr><op><expr> \\\n",
    "           | (<expr><op><expr>) \\\n",
    "           | <pre_op>(<expr>) \\\n",
    "           | <var>\n",
    "<op>     ::= + | - | * | / \n",
    "<pre_op> ::= sin | cos | exp | log\n",
    "<var>    ::= x | 1.0\n",
    "\"\"\")    \n",
    "\n",
    "g = p.Grammar('grammar.bnf')\n",
    "\n",
    "i = 0\n",
    "while i<50:\n",
    "    m = g.generate([np.random.randint(0,255) for _ in range(10)])\n",
    "    if m[0]:\n",
    "        i = i + 1\n",
    "        print(m)\n"
   ]
  },
  {
   "cell_type": "code",
   "execution_count": null,
   "metadata": {
    "collapsed": false
   },
   "outputs": [],
   "source": []
  },
  {
   "cell_type": "code",
   "execution_count": null,
   "metadata": {
    "collapsed": true
   },
   "outputs": [],
   "source": []
  },
  {
   "cell_type": "code",
   "execution_count": null,
   "metadata": {
    "collapsed": true
   },
   "outputs": [],
   "source": []
  }
 ],
 "metadata": {
  "abstract": "TODO: Poner el abstract.",
  "anaconda-cloud": {},
  "author": "Andrés Mañas Mañas",
  "kernelspec": {
   "display_name": "py36",
   "language": "python",
   "name": "myenv"
  },
  "language_info": {
   "codemirror_mode": {
    "name": "ipython",
    "version": 3
   },
   "file_extension": ".py",
   "mimetype": "text/x-python",
   "name": "python",
   "nbconvert_exporter": "python",
   "pygments_lexer": "ipython3",
   "version": "3.6.0"
  },
  "latex_envs": {
   "bibliofile": "biblio.bib",
   "cite_by": "apalike",
   "current_citInitial": 1,
   "eqLabelWithNumbers": true,
   "eqNumInitial": 0
  },
  "title": "Computación evolutiva: tercera práctica",
  "toc": {
   "colors": {
    "hover_highlight": "#DAA520",
    "running_highlight": "#FF0000",
    "selected_highlight": "#FFD700"
   },
   "moveMenuLeft": true,
   "navigate_menu": false,
   "number_sections": true,
   "sideBar": false,
   "threshold": 4,
   "toc_cell": true,
   "toc_position": {
    "height": "403px",
    "left": "1600px",
    "right": "20px",
    "top": "108px",
    "width": "307px"
   },
   "toc_section_display": "block",
   "toc_window_display": true
  }
 },
 "nbformat": 4,
 "nbformat_minor": 1
}
