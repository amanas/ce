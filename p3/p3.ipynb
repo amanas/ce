{
 "cells": [
  {
   "cell_type": "markdown",
   "metadata": {
    "collapsed": true
   },
   "source": [
    "1. Bibliografía:\n",
    "  - El **tema 6** permitirá al alumno familiarizarse con la programación genética (PG) \n",
    "  - y, **el mencionado artículo**, con una de las variantes de la PG, denominada Evolución Gramatical (del inglés Grammatical Evolution, GE). \n",
    "  - El **capítulo 8** describe distintos mecanismos para sintonizar de forma adaptativa cada uno de los diferentes parámetros de los que consta un algoritmo evolutivo (AE). \n",
    "  - El **capítulo 10** describe la forma de hibridar un AE con otros métodos de búsqueda. \n",
    "  - Finalmente, en el **capítulo 12**, se muestran distintas estrategias para manejar la existencia de restricciones en problemas de optimización que son abordados mediante AEs.\n",
    "  \n",
    "2. Secciones\n",
    "  - Descripción del problema a resolver\n",
    "  - Método para resolverlo \n",
    "    - se debe analizar la idoneidad o no del uso de GE para resolver el problema planteado\n",
    "    - se debe incluir la expresión matemática de la función de evaluación finalmente empleada\n",
    "    - se debe incluir la descripción de los diferentes operadores de inicialización, variación y selección empleados\n",
    "    - se debe incluir la forma de manejar las restricciones, los mecanismos de control de parámetros utilizados, así como los mecanismos de búsqueda local implementados\n",
    "  - Los resultados de los distintos experimentos realizados\n",
    "  - Un análisis y comparación de resultados\n",
    "  - Una sección de conclusiones\n",
    "  - Una descripción del código implementado. \n",
    "\n",
    "3. Evaluación\n",
    "  - Sobre la presentación (2/10)\n",
    "    - Se evaluará especialmente la claridad en la redacción de la memoria y la capacidad de síntesis.  \n",
    "  - Sobre el manejo de restricciones (1/10)\n",
    "      - Se valorará la originalidad del mecanismo o mecanismos usados para el manejo de restricciones.\n",
    "  - Sobre la configuración del algoritmo (2/10)\n",
    "    - Aquí se valorará el procedimiento seguido por el alumno a la hora de elegir la mejor configuración de parámetros del algoritmo, incluyendo la implementación de mecanismos de control de parámetros adaptativos o auto-adaptativos\n",
    "  - Sobre la hibridación del algoritmo con técnicas de búsqueda local (1/10)\n",
    "    - Se valorará la originalidad del mecanismo de búsqueda local utilizado.\n",
    "  - Sobre el análisis y comparación de resultados, y conclusiones (4/10)\n",
    "    - Se valorará la forma de interpretar y comparar los diferentes experimentos realizados.\n",
    "      - Es muy importante que dicha valoración se haga siempre en términos de los índices SR, MBF, AES \n",
    "      - y cualquier otra gráfica que considere oportuna como, por ejemplo, los plots de progreso de convergencia. \n",
    "    - Finalmente, se valorará la calidad de las conclusiones obtenidas a partir de la interpretación y comparación de resultados.\n"
   ]
  },
  {
   "cell_type": "markdown",
   "metadata": {},
   "source": [
    "# 1. Descripción del problema a resolver\n",
    "\n",
    "Repitiendo las indicaciones dadas en el documento de la actividad, el problema consiste en implementar un algoritmo evolutivo para calcular la derivada simbólica de una función \n",
    "$$ f:X \\subseteq \\mathcal{R} \\rightarrow \\mathcal{R} $$ \n",
    "\n",
    "Disponemos de las siguientes dos definiciones:\n",
    "\n",
    "> **Definición de derivada de una función en un punto**: Sea $X \\subseteq \\mathcal{R}$ un intervalo abierto. Diremos que $f:X \\subseteq \\mathcal{R} \\rightarrow \\mathcal{R}$ es derivable en $x_0 \\in X$, denotado por $f'(x_0)$, si existe y es finito el límite:\n",
    "$$\n",
    "f'(x_0) = \\lim \\limits_{h \\to 0} \\frac{f(x_0+h)-f(x_0)}{h}  \\tag{1}\n",
    "$$\n",
    "\n",
    "> **Definición de derivada de una función en un intervalo**: Sea $X \\subseteq \\mathcal{R}$ un intervalo abierto. Diremos que $f:X \\subseteq \\mathcal{R} \\rightarrow \\mathcal{R}$ es derivable en el intervalo $[a,b] \\subseteq X$, si $f$ es derivable en cada uno de los puntos de dicho intervalo, es decir, si:\n",
    "$$\n",
    "f'(x) = \\lim \\limits_{h \\to 0} \\frac{f(x+h)-f(x)}{h}, \\forall x \\in [a,b]  \\tag{2}\n",
    "$$\n",
    "\n",
    "Suponiendo que $f$ sea derivable en $[a,b]$, el problema de calcular la derivada lo vamos a transformar en un nuevo problema de optimización consistente en encontrar una función $g(x)$ que minimice la expresión:\n",
    "$$\n",
    "\\min \\limits_{g(x)} \\frac{1}{b-a}\\int_{a}^{b} error[f'(x),g(x)]dx \\tag{3}\n",
    "$$\n",
    "\n",
    "dónde $f'(x)$ se calcularía utilizando la expresión $(2)$.\n",
    "\n",
    "No obstante, el problema anterior se puede resolver de forma aproximada discretizando el intervalo de definición, es decir, cambiando el operador integral por un sumatorio:\n",
    "$$\n",
    "\\min \\limits_{g(x)} \\frac{1}{N+1}\\sum_{i=0}^{N} error_i[f'(a+i*h),g(a+i*h)] \\tag{4}\n",
    "$$\n",
    "dónde $h=\\frac{b-a}{N}$ es la anchura del subintervalo de muestreo para conseguir muestrear $N+1$ puntos en el intervalo $[a,b]$, y $f'(a+i*h)$ viene dado por:\n",
    "$$\n",
    "f'(a+i*h)=\\frac{f(a+(i+1)*h) - f(a+i*h)}{h}, \\forall i \\in \\{0,1,...,N\\} \\tag{5}\n",
    "$$"
   ]
  },
  {
   "cell_type": "markdown",
   "metadata": {},
   "source": [
    "# 2.  Método para resolverlo\n",
    "\n",
    "## 2.1. Breve introducción a la GE\n",
    "\n",
    "La evolución gramatical codifica un conjunto de números pseudo aleatorios **(codones)** en un cromosoma que consiste en un número variable de genes binarios de 8 bits. \n",
    "\n",
    "Estos números se usan para seleccionar una regla apropiada a partir de una definición de gramática con **notación Backus-Naur (BNF)**.\n",
    "\n",
    "**Una gramática de BNF consiste en la tupla**\n",
    "$$  \\{N, T, P, S \\} $$\n",
    "dónde:\n",
    "- **N** es el conjunto de no terminales, \n",
    "- **T** es el conjunto de terminales\n",
    "- **P** es un conjunto de reglas de producción que mapean los elementos de N a T \n",
    "- **S** es un símbolo de inicio que es un miembro de N. \n",
    "  \n",
    "Los no terminales de la gramática se mapean en los terminales de la gramática mediante la aplicación recursiva de las reglas dictadas por los valores de los genes. Al finalizar el proceso de mapeo, el código final producido (fenotipo) está formado sólo por terminales.\n",
    "\n",
    "Por ejemplo, si consideramos esta gramática BNF:\n",
    "\n",
    "```\n",
    "N = { expr, op, pre_op } \n",
    "T = { Sin, Cos, Tan, Log, +, -, /, *, X, () } \n",
    "S = <expr>\n",
    "```\n",
    "\n",
    "Y representamos P por:\n",
    "\n",
    "```\n",
    "(1) <expr> ::= <expr> <op> <expr>     (A) \n",
    "             | ( <expr> <op> <expr> ) (B)\n",
    "             | <pre-op> ( <expr> )    (C) \n",
    "             | <var>                  (D)\n",
    "(2) <op> ::= + (A)  \n",
    "           | - (B) \n",
    "           | / (C) \n",
    "           | * (D)\n",
    "(3) <pre-op> ::= Sin (A)  \n",
    "               | Cos (B) \n",
    "               | Tan (C) \n",
    "               | Log (D)\n",
    "(4) <var> ::= X\n",
    "```\n",
    "\n",
    "Consideremos la regla (1):\n",
    "\n",
    "```\n",
    "(1) <expr> ::= <expr> <op> <expr> \n",
    "             | ( <expr> <op> <expr> ) \n",
    "             | <pre-op> ( <expr> ) \n",
    "             | <var>\n",
    "```\n",
    "\n",
    "En este caso, el no terminal puede producir uno de cuatro resultados diferentes, para decidir cuál utilizar nuestro sistema toma el siguiente número aleatorio disponible del cromosoma y, en este caso obtiene el módulo cuatro del número para decidir qué regal de producción toma. \n",
    "\n",
    "Cada vez que se tiene que tomar una decisión, se lee otro número pseudo aleatorio del cromosoma, y de esta manera, el sistema atraviesa el cromosoma.\n",
    "\n",
    "En GE es posible que los individuos se queden sin genes durante el proceso de mapeo, y en este caso hay dos alternativas:\n",
    "- La primera es declarar al individuo inválido y castigarlos con un valor de fitness adecuado\n",
    "- La segunda es envolver al individuo y reutilizar los genes. Este es un enfoque bastante inusual en EAs, ya que es completamente posible que ciertos genes se usen dos o más veces. \n",
    "\n",
    "**Lo que es crucial, sin embargo, es que cada vez que un individuo en particular es mapeado de su genotipo a su fenotipo, se genera la misma salida. Esto se garantiza por el proceso de mapeo descrito anteriormente.**\n",
    "\n",
    "## 2.2. Idoneidad de GE para resolver el problema\n",
    "\n",
    "Nuestro problema consiste en encontrar la derivada de una función probando/evolucionando distintas combinaciones de otras dadas.\n",
    "\n",
    "Según leemos en [grammatical-evolution.org](http://www.grammatical-evolution.org/papers/gp98/node1.html): \n",
    "\n",
    "> *GE has proved successful when applied to a symbolic regression problem [Ryan 98a], and finding trigonometric identities [Ryan 98b], here we apply GE to a symbolic integration problem taken from the literature [Koza 92]. This involves finding a function which is an integral of Cos(X)+2X+1. In each of these cases we take a subset of C as our target language which is described in Backus Naur Form definition. A Steady State selection mechanism [Syswerda 89] has been employed and was found to reduce the number of generations required to achieve a correct solution. Using this selection mechanism we reapplied our system to the two problems previously tackled and again found an improvement in performance for both of these problems.*\n",
    "\n",
    "Por lo tanto, según esta referencia, parece que utilizar una técnica evolutiva basada en Evolución Gramatical podría ser la forma más indicada.\n",
    "\n",
    "Además, teniendo en cuenta que el fundamente de la evolución gramatical se basa en definir una gramática que representa las formas válidas que pueden adoptar los individuos, y teniendo en cuenta que una función objetivo puede alcanzarse como combinación de operadores, números y otras funciones básicas, parece bastante natural que el problema de encontrar la derivadda de una función pueda abordar con técnicas de GE.\n",
    "\n",
    "# 2.3. Expresión matemática de la función de evaluación\n",
    "\n",
    "Primero necesitamos una función que nos permita tomar $N$ muestras del valor de la derivada de una función $f$ en un intervalo $D = [a,b]$."
   ]
  },
  {
   "cell_type": "code",
   "execution_count": 318,
   "metadata": {
    "collapsed": false
   },
   "outputs": [],
   "source": [
    "from math import sin, cos, exp, log\n",
    "\n",
    "def derivada(f, D, N):    \n",
    "    \"\"\"\n",
    "    Calcula los valores aproximados de la derivada\n",
    "    de f en el intervalo D tomando N muestras    \n",
    "    \"\"\"\n",
    "    a,b = D\n",
    "    h = float(b-a)/N\n",
    "    return [(f(a + (i+1)*h) - f(a + i*h))/h \n",
    "            for i in range(N+1)]\n",
    "\n",
    "# derivada(sin, [0,1], 10)"
   ]
  },
  {
   "cell_type": "markdown",
   "metadata": {},
   "source": [
    "Necesitamos además poder tomar $N$ muestras de la función dada por el fenotipo compilado de un individuo en un intervalo $D=[a,b]$"
   ]
  },
  {
   "cell_type": "code",
   "execution_count": 317,
   "metadata": {
    "collapsed": false
   },
   "outputs": [],
   "source": [
    "def muestrea(f, D, N):\n",
    "    \"\"\"\n",
    "    Calcula los valores de la función que se \n",
    "    corresponde con el fenotipo de un individuo \n",
    "    en el intervalo D tomando N muestras    \n",
    "    \"\"\"\n",
    "    a,b = D\n",
    "    h = float(b-a)/N\n",
    "    return [f(a + i*h) for i in range(N+1)]\n",
    "\n",
    "# muestrea(lambda x: cos(x), [0,1], 10)"
   ]
  },
  {
   "cell_type": "markdown",
   "metadata": {},
   "source": [
    "Podemos construir además la función que determina el error cometido al considerar un fenotipo $ \\text{fen}$ como la derivada de una función $f$.\n",
    "\n",
    "La función de evaluación viene dada por la expresión (4) indicada en el enunciado de la práctica. Existen diferentes formas de calcular el error; en esta práctica vamos a utilizar el error cuadrático.\n"
   ]
  },
  {
   "cell_type": "code",
   "execution_count": 140,
   "metadata": {
    "collapsed": false
   },
   "outputs": [],
   "source": [
    "def mean_square_error(l,r):\n",
    "    \"\"\"\n",
    "    Calcula el error cuadrático medio\n",
    "    entre dos listas de números\n",
    "    \"\"\" \n",
    "    squares = [(l[i] - r[i])**2 \n",
    "               for i in range(len(l))]\n",
    "    return sum(squares)/float(len(l))\n",
    "\n",
    "# mean_square_error([4,5],[0,0])"
   ]
  },
  {
   "cell_type": "markdown",
   "metadata": {},
   "source": [
    "Así por ejemplo, para el caso de seno y coseno, podemos hacer esta prueba:"
   ]
  },
  {
   "cell_type": "code",
   "execution_count": 240,
   "metadata": {
    "collapsed": false
   },
   "outputs": [
    {
     "name": "stdout",
     "output_type": "stream",
     "text": [
      "Error para sin´ = cos:  0.0007595619669\n"
     ]
    }
   ],
   "source": [
    "l = derivada(sin, [0,1], 10)\n",
    "r = muestrea(lambda x: cos(x), [0,1], 10)\n",
    "print 'Error para sin´ = cos: ', mean_square_error(l,r)"
   ]
  },
  {
   "cell_type": "markdown",
   "metadata": {},
   "source": [
    "Siguiendo las indicaciones del enunciado de la práctica, en lugar de implementar desde cero el código que interpretase la gramática y realizara la decodificación de los individuos, prefiero apoyarme en una librería ya existante, [ponyge](https://github.com/jmmcd/ponyge). \n",
    "\n",
    "De ésta extraigo sólo la funcionalidad que permite interpretar la gramática y decodificar un individuo. No utilizo la librería tal cuál está disponible en la red, sino que me quedo sólo con la parte relevante, la cual incluyo en el archivo python ponyge.py. De este modo, puedo tener un objecto que interprete una gramática dada con una simple llamada:"
   ]
  },
  {
   "cell_type": "code",
   "execution_count": 115,
   "metadata": {
    "collapsed": false
   },
   "outputs": [],
   "source": [
    "import sys\n",
    "sys.path.insert(0, 'ponyge.py')\n",
    "\n",
    "from ponyge import Grammar\n",
    "\n",
    "G = Grammar(\"\"\"\n",
    "<expr>   ::= <expr><op><expr> \\\n",
    "           | (<expr><op><expr>) \\\n",
    "           | <pre_op>(<expr>) \\\n",
    "           | <var>\n",
    "<op>     ::= + | - | * | / \n",
    "<pre_op> ::= sin | cos | exp | log\n",
    "<var>    ::= x | 1.0\n",
    "\"\"\", MAX_WRAPS=0)"
   ]
  },
  {
   "cell_type": "markdown",
   "metadata": {},
   "source": [
    "Y puedo obtener el fenotipo de un individuo cualquiera llamando al método **generate** del objeto que contiene la gramática. Nótese que el método generate devuelve:\n",
    "- el fenotipo del individuo de entrada si puede ser decodificado según la gramática. None en otro caso\n",
    "- el número de codones que se necesitan para la decodificación"
   ]
  },
  {
   "cell_type": "code",
   "execution_count": 116,
   "metadata": {
    "collapsed": false
   },
   "outputs": [
    {
     "name": "stdout",
     "output_type": "stream",
     "text": [
      "('x', 2)\n"
     ]
    }
   ],
   "source": [
    "import numpy as np\n",
    "        \n",
    "finish = False\n",
    "while not finish:\n",
    "    fen = G.generate([np.random.randint(0, 10)\n",
    "                      for _ in range(5)])\n",
    "    if fen[0]:\n",
    "        print fen\n",
    "        finish = True        "
   ]
  },
  {
   "cell_type": "markdown",
   "metadata": {
    "collapsed": true
   },
   "source": [
    "Por último, haciendo uso de las funciones anteriores, podemos construir la **función de evaluación genérica**, que dadas:\n",
    "- una función f\n",
    "- un individuo \n",
    "- un intervalo real D=[a,b]\n",
    "- y un valor N de muestreo en el intervalo\n",
    "\n",
    "nos devuelva el fitness del individuo, o None si se produce cualquier error en la evaluación."
   ]
  },
  {
   "cell_type": "code",
   "execution_count": 316,
   "metadata": {
    "collapsed": false
   },
   "outputs": [],
   "source": [
    "from math import sin\n",
    "\n",
    "def mean_sqr_fitness(f, D, N, ind):\n",
    "    \"\"\"\n",
    "    Devuelve el fitness, visto como error cuadrático \n",
    "    medio en la aproximación a la derivada de f, \n",
    "    del individuo ind en el \n",
    "    intervalo D muestrado por N puntos.\n",
    "    Si se produce cualquier error\n",
    "    (típicamente divisiones por cero), se devuelve\n",
    "    None.    \n",
    "    \"\"\"\n",
    "    try:\n",
    "        l = derivada(f, D, N)\n",
    "        r = muestrea(ind.compiled_phenotype, D, N)\n",
    "        return mean_square_error(l,r)\n",
    "    except:\n",
    "        return None"
   ]
  },
  {
   "cell_type": "markdown",
   "metadata": {},
   "source": [
    "# 2.4 Operadores de inicialización, variación y selección\n",
    "\n",
    "La generación de individuos la llevo a cabo creando listas de números enteros aleatorios en donde puedo indicar el valor máximo de cada codón y el la longitud del genotipo:"
   ]
  },
  {
   "cell_type": "code",
   "execution_count": 267,
   "metadata": {
    "collapsed": false
   },
   "outputs": [],
   "source": [
    "import random\n",
    "from functools import partial\n",
    "\n",
    "class Individual(object):\n",
    "    \"\"\"Clase que representa los individuos\"\"\"\n",
    "    def __init__(self, genome=None, CODON_SIZE=127, \n",
    "                 LENGTH=100, PENALTY=1e6):\n",
    "        if genome == None:\n",
    "            self.genome = [random.randint(0, CODON_SIZE)\n",
    "                           for _ in range(LENGTH)]\n",
    "        else:\n",
    "            self.genome = genome\n",
    "        self.phenotype = None\n",
    "        self.used_codons = 0\n",
    "        self.compiled_phenotype = None\n",
    "        self.fitness = 1e10\n",
    "\n",
    "    def __lt__(self, other):\n",
    "        return other.fitness < self.fitness\n",
    "\n",
    "    def __str__(self):\n",
    "        return (\"Individual: \" +\n",
    "                str(self.phenotype) + \"; \" + str(self.fitness))\n",
    "\n",
    "    def evaluate(self, G, fitness_f, PENALTY=1e6):\n",
    "        self.phenotype, self.used_codons = G.generate(self.genome)\n",
    "        if self.phenotype is None:\n",
    "            self.fitness = PENALTY\n",
    "        else :\n",
    "            self.compiled_phenotype = eval('lambda x:' + self.phenotype)\n",
    "            v = fitness_f(self)            \n",
    "            self.fitness = v if v else PENALTY        "
   ]
  },
  {
   "cell_type": "markdown",
   "metadata": {},
   "source": [
    "Para la selección, la podemos hacer por torneo:"
   ]
  },
  {
   "cell_type": "code",
   "execution_count": 319,
   "metadata": {
    "collapsed": false
   },
   "outputs": [],
   "source": [
    "def tournament_selection(population, \n",
    "                         GENERATION_SIZE,\n",
    "                         TOURNAMENT_SIZE=3):\n",
    "    \"\"\"Selecciona por torneo. \"\"\"\n",
    "    winners = []\n",
    "    while len(winners) < GENERATION_SIZE:\n",
    "        competitors = random.sample(population, \n",
    "                                    TOURNAMENT_SIZE)\n",
    "        competitors.sort(reverse=True)\n",
    "        winners.append(competitors[0])\n",
    "    return winners"
   ]
  },
  {
   "cell_type": "markdown",
   "metadata": {},
   "source": [
    "Y por último, para la variación, podemos mutar o cruzar.\n",
    "\n",
    "Las mutaciones las realizo a nivel de codón, no de bit, permitiendo que se parametrice la probabilidad de mutación:"
   ]
  },
  {
   "cell_type": "code",
   "execution_count": 258,
   "metadata": {
    "collapsed": true
   },
   "outputs": [],
   "source": [
    "def mutate(ind, CODON_SIZE, MUTATION_PROBABILITY=.0):\n",
    "    \"\"\"Muta un individuo a nivel de codón con\n",
    "    probabilidad MUTATION_PROBABILITY.\n",
    "    \"\"\"\n",
    "    for i in range(len(ind.genome)):\n",
    "        if random.random() < MUTATION_PROBABILITY:\n",
    "            ind.genome[i] = random.randint(0, CODON_SIZE)\n",
    "    return ind"
   ]
  },
  {
   "cell_type": "markdown",
   "metadata": {},
   "source": [
    "Y el cruce lo realizo por un único punto. Conviene observar que permito parametrizar que el cruce se realize o no por partes del genoma que pertenecen a la sección del mismo que es relevante en su decodificación."
   ]
  },
  {
   "cell_type": "code",
   "execution_count": 310,
   "metadata": {
    "collapsed": false
   },
   "outputs": [],
   "source": [
    "def onepoint_crossover(p_0, p_1, \n",
    "                       CROSSOVER_PROBABILITY=.1,\n",
    "                       WITHIN_USED=True):\n",
    "    \"\"\"Dados dos individuos, crea un hijo cruzándolos\n",
    "    por punto único. Si WITHIN_USED es True, el cruce\n",
    "    se produce por partes del genoma usadas en la \n",
    "    decodificación de los padres\"\"\"    \n",
    "    c_p_0, c_p_1 = p_0.genome, p_1.genome\n",
    "    if WITHIN_USED:\n",
    "        max_p_0, max_p_1 = p_0.used_codons, p_1.used_codons\n",
    "    else:\n",
    "        max_p_0, max_p_1 = len(c_p_0), len(c_p_1)\n",
    "    \n",
    "    pt_p_0 = random.randint(1, max_p_0)\n",
    "    pt_p_1 = random.randint(1, max_p_1)    \n",
    "    if random.random() < CROSSOVER_PROBABILITY:\n",
    "        c_0 = c_p_0[:pt_p_0] + c_p_1[pt_p_1:]\n",
    "        c_1 = c_p_1[:pt_p_1] + c_p_0[pt_p_0:]\n",
    "    else:\n",
    "        c_0, c_1 = c_p_0[:], c_p_1[:]\n",
    "        \n",
    "    return Individual(c_0), Individual(c_1)"
   ]
  },
  {
   "cell_type": "markdown",
   "metadata": {},
   "source": [
    "Y por último, el método de reemplazo, generacional con elitismo 1 por defecto, aunque es configurable:"
   ]
  },
  {
   "cell_type": "code",
   "execution_count": 313,
   "metadata": {
    "collapsed": true
   },
   "outputs": [],
   "source": [
    "import copy\n",
    "\n",
    "def generational_replacement(new_pop, pop, \n",
    "                             GENERATION_SIZE, \n",
    "                             ELITE_SIZE=1):\n",
    "    \"\"\"Devuelve la nueva población a partir \n",
    "    de la actual y la anterior aplicando elitismo\n",
    "    \"\"\"\n",
    "    pop.sort(reverse=True)\n",
    "    for ind in pop[:ELITE_SIZE]:\n",
    "        new_pop.append(copy.copy(ind))\n",
    "    new_pop.sort(reverse=True)\n",
    "    return new_pop[:GENERATION_SIZE]"
   ]
  },
  {
   "cell_type": "markdown",
   "metadata": {},
   "source": [
    "# 2.5 Implementación del algoritmo principal y documentación de parámetros\n",
    "\n",
    "Po último podemos escribir, con todas las funcionalidades anteriores el algoritmo que gobernará nuestro programa de evolución gramátical."
   ]
  },
  {
   "cell_type": "code",
   "execution_count": 129,
   "metadata": {
    "collapsed": false
   },
   "outputs": [
    {
     "ename": "IndentationError",
     "evalue": "unexpected indent (<ipython-input-129-3af2379adc73>, line 33)",
     "output_type": "error",
     "traceback": [
      "\u001b[0;36m  File \u001b[0;32m\"<ipython-input-129-3af2379adc73>\"\u001b[0;36m, line \u001b[0;32m33\u001b[0m\n\u001b[0;31m    \"\"\"Return individuals and best ever individual from a step of\u001b[0m\n\u001b[0m    ^\u001b[0m\n\u001b[0;31mIndentationError\u001b[0m\u001b[0;31m:\u001b[0m unexpected indent\n"
     ]
    }
   ],
   "source": [
    "VERBOSE = False\n",
    "CODON_SIZE = 127\n",
    "ELITE_SIZE = 1\n",
    "POPULATION_SIZE = 100  # Población inicial\n",
    "GENERATION_SIZE = 100\n",
    "GENERATIONS = 30\n",
    "MUTATION_PROBABILITY = 0.01\n",
    "CROSSOVER_PROBABILITY = 0.7\n",
    "MAX_WRAPS = 0\n",
    "#GRAMMAR_FILE, FITNESS_FUNCTION = \"grammars/hofBoolean.pybnf\", EvenNParityFitness(3)\n",
    "GRAMMAR_FILE, FITNESS_FUNCTION = \"grammars/letter.bnf\", StringMatch(\"golden\")\n",
    "#GRAMMAR_FILE, FITNESS_FUNCTION = \"grammars/arithmetic.pybnf\", MaxFitness()\n",
    "#GRAMMAR_FILE, FITNESS_FUNCTION = \"grammars/boolean.pybnf\", XORFitness()\n",
    "\n",
    "\n",
    "def run(config):\n",
    "    \"\"\"Ejecuta el programa de evolución gramatical\"\"\"\n",
    "    \n",
    "    # Creamos la gramática\n",
    "    G = Grammar(config['G'], \n",
    "                config['MAX_WRAPS']) \n",
    "        \n",
    "    # Población inicial\n",
    "    pop = [Individual() for _ in range(config['POPULATION_SIZE'])]\n",
    "    \n",
    "    #Evaluate initial population\n",
    "    evaluate_fitness(individuals, grammar, fitness_function)\n",
    "    best_ever = max(individuals)\n",
    "    individuals.sort(reverse=True)\n",
    "    print_stats(1, individuals)\n",
    "    for generation in range(2, (max_generations+1)):\n",
    "        individuals, best_ever = step(individuals, grammar, replacement, selection, fitness_function, best_ever)\n",
    "            \"\"\"Return individuals and best ever individual from a step of\n",
    "        the EA iteration\"\"\"\n",
    "        #Select parents\n",
    "        parents = selection(individuals)\n",
    "        #Crossover parents and add to the new population\n",
    "        new_pop = []\n",
    "        while len(new_pop) < GENERATION_SIZE:\n",
    "            new_pop.extend(onepoint_crossover(*random.sample(parents, 2)))\n",
    "        #Mutate the new population\n",
    "        new_pop = list(map(int_flip_mutation, new_pop))\n",
    "        #Evaluate the fitness of the new population\n",
    "        evaluate_fitness(new_pop, grammar, fitness_function)\n",
    "        #Replace the sorted individuals with the new populations\n",
    "        individuals = replacement(new_pop, individuals)\n",
    "        best_ever = max(best_ever, max(individuals))\n",
    "        return individuals, best_ever\n",
    "        \n",
    "        \n",
    "        print_stats(generation, individuals)\n",
    "    return best_ever\n",
    "\n",
    "\n",
    "\n",
    "\n",
    "\n",
    "# f = partial(fitness, sin, [0,1], 10)\n",
    "\n",
    "\n",
    "# i1 =Individual()\n",
    "# i2 =Individual()\n",
    "# i1.evaluate(G,f)\n",
    "# i2.evaluate(G,f)\n",
    "# o=onepoint_crossover(i1, i2)\n",
    "# print o[0]"
   ]
  },
  {
   "cell_type": "code",
   "execution_count": 314,
   "metadata": {
    "collapsed": false
   },
   "outputs": [],
   "source": [
    "\n",
    "\n",
    "VERBOSE = False\n",
    "CODON_SIZE = 127\n",
    "ELITE_SIZE = 1\n",
    "POPULATION_SIZE = 100  # Población inicial\n",
    "GENERATION_SIZE = 100\n",
    "GENERATIONS = 3\n",
    "MUTATION_PROBABILITY = 0.01\n",
    "CROSSOVER_PROBABILITY = 0.7\n",
    "MAX_WRAPS = 0\n",
    "#GRAMMAR_FILE, FITNESS_FUNCTION = \"grammars/hofBoolean.pybnf\", EvenNParityFitness(3)\n",
    "# GRAMMAR_FILE, FITNESS_FUNCTION = \"grammars/letter.bnf\", StringMatch(\"golden\")\n",
    "#GRAMMAR_FILE, FITNESS_FUNCTION = \"grammars/arithmetic.pybnf\", MaxFitness()\n",
    "#GRAMMAR_FILE, FITNESS_FUNCTION = \"grammars/boolean.pybnf\", XORFitness()\n",
    "\n",
    "\n",
    "\n",
    "# Creamos la gramática\n",
    "G = Grammar(\"\"\"\n",
    "<expr>   ::= <expr><op><expr> \\\n",
    "           | (<expr><op><expr>) \\\n",
    "           | <pre_op>(<expr>) \\\n",
    "           | <var>\n",
    "<op>     ::= + | - | * | / \n",
    "<pre_op> ::= sin | cos | exp | log\n",
    "<var>    ::= x | 1.0\n",
    "\"\"\", MAX_WRAPS=0)\n",
    "\n",
    "f = partial(fitness, sin, [0,1], 10)\n",
    "\n",
    "\n",
    "\n",
    "# Población inicial\n",
    "pop = [Individual() for _ in range(POPULATION_SIZE)]\n",
    "\n",
    "# #Evaluate initial population\n",
    "for ind in pop:\n",
    "    ind.evaluate(G, f)\n",
    "    \n",
    "best = max(pop)\n",
    "\n",
    "pop.sort(reverse=True)\n",
    "\n",
    "for generation in range(1, GENERATIONS):\n",
    "#     pop, best = step(individuals, grammar, replacement, selection, fitness_function, best_ever)\n",
    "    \n",
    "    #Select parents\n",
    "    parents = tournament_selection(pop, GENERATION_SIZE)\n",
    "     \n",
    "    #Crossover parents and add to the new population\n",
    "    new_pop = []\n",
    "    while len(new_pop) < GENERATION_SIZE:\n",
    "        new_pop.extend(onepoint_crossover(*random.sample(parents, 2)))\n",
    "        \n",
    "    #Mutate the new population\n",
    "    for ind in new_pop:\n",
    "        mutate(ind, CODON_SIZE)\n",
    "    \n",
    "    #Evaluate the fitness of the new population\n",
    "    for ind in new_pop:\n",
    "        ind.evaluate(G, f)\n",
    "    \n",
    "#     #Replace the sorted individuals with the new populations\n",
    "    pop = generational_replacement(new_pop, pop)\n",
    "#     best_ever = max(best_ever, max(individuals))\n",
    "#     return individuals, best_ever\n",
    "\n",
    "\n",
    "#     print_stats(generation, individuals)\n",
    "# return best_ever"
   ]
  }
 ],
 "metadata": {
  "abstract": "TODO: Poner el abstract.",
  "anaconda-cloud": {},
  "author": "Andrés Mañas Mañas",
  "kernelspec": {
   "display_name": "Python 2",
   "language": "python",
   "name": "python2"
  },
  "language_info": {
   "codemirror_mode": {
    "name": "ipython",
    "version": 2
   },
   "file_extension": ".py",
   "mimetype": "text/x-python",
   "name": "python",
   "nbconvert_exporter": "python",
   "pygments_lexer": "ipython2",
   "version": "2.7.13"
  },
  "latex_envs": {
   "bibliofile": "biblio.bib",
   "cite_by": "apalike",
   "current_citInitial": 1,
   "eqLabelWithNumbers": true,
   "eqNumInitial": 0
  },
  "title": "Computación evolutiva: tercera práctica",
  "toc": {
   "colors": {
    "hover_highlight": "#DAA520",
    "running_highlight": "#FF0000",
    "selected_highlight": "#FFD700"
   },
   "moveMenuLeft": true,
   "navigate_menu": false,
   "number_sections": true,
   "sideBar": false,
   "threshold": 4,
   "toc_cell": true,
   "toc_position": {
    "height": "403px",
    "left": "1600px",
    "right": "20px",
    "top": "108px",
    "width": "307px"
   },
   "toc_section_display": "block",
   "toc_window_display": true
  }
 },
 "nbformat": 4,
 "nbformat_minor": 1
}
