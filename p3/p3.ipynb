{
 "cells": [
  {
   "cell_type": "markdown",
   "metadata": {
    "collapsed": true
   },
   "source": [
    "1. Bibliografía:\n",
    "  - El **tema 6** permitirá al alumno familiarizarse con la programación genética (PG) \n",
    "  - y, **el mencionado artículo**, con una de las variantes de la PG, denominada Evolución Gramatical (del inglés Grammatical Evolution, GE). \n",
    "  - El **capítulo 8** describe distintos mecanismos para sintonizar de forma adaptativa cada uno de los diferentes parámetros de los que consta un algoritmo evolutivo (AE). \n",
    "  - El **capítulo 10** describe la forma de hibridar un AE con otros métodos de búsqueda. \n",
    "  - Finalmente, en el **capítulo 12**, se muestran distintas estrategias para manejar la existencia de restricciones en problemas de optimización que son abordados mediante AEs.\n",
    "  \n",
    "2. Secciones\n",
    "  - Descripción del problema a resolver\n",
    "  - Método para resolverlo \n",
    "    - se debe analizar la idoneidad o no del uso de GE para resolver el problema planteado\n",
    "    - se debe incluir la expresión matemática de la función de evaluación finalmente empleada\n",
    "    - se debe incluir la descripción de los diferentes operadores de inicialización, variación y selección empleados\n",
    "    - se debe incluir la forma de manejar las restricciones, los mecanismos de control de parámetros utilizados, así como losmecanismos de búsqueda local implementados\n",
    "  - Los resultados de los distintos experimentos realizados\n",
    "  - Un análisis y comparación de resultados\n",
    "  - Una sección de conclusiones\n",
    "  - Una descripción del código implementado. \n",
    "\n",
    "3. Evaluación\n",
    "  - Sobre la presentación (2/10)\n",
    "    - Se evaluará especialmente la claridad en la redacción de la memoria y la capacidad de síntesis.  \n",
    "  - Sobre el manejo de restricciones (1/10)\n",
    "      - Se valorará la originalidad del mecanismo o mecanismos usados para el manejo de restricciones.\n",
    "  - Sobre la configuración del algoritmo (2/10)\n",
    "    - Aquí se valorará el procedimiento seguido por el alumno a la hora de elegir la mejor configuración de parámetros del algoritmo, incluyendo la implementación de mecanismos de control de parámetros adaptativos o auto-adaptativos\n",
    "  - Sobre la hibridación del algoritmo con técnicas de búsqueda local (1/10)\n",
    "    - Se valorará la originalidad del mecanismo de búsqueda local utilizado.\n",
    "  - Sobre el análisis y comparación de resultados, y conclusiones (4/10)\n",
    "    - Se valorará la forma de interpretar y comparar los diferentes experimentos realizados.\n",
    "      - Es muy importante que dicha valoración se haga siempre en términos de los índices SR, MBF, AES \n",
    "      - y cualquier otra gráfica que considere oportuna como, por ejemplo, los plots de progreso de convergencia. \n",
    "    - Finalmente, se valorará la calidad de las conclusiones obtenidas a partir de la interpretación y comparación de resultados.\n"
   ]
  },
  {
   "cell_type": "markdown",
   "metadata": {},
   "source": [
    "# Descripción del problema a resolver\n",
    "\n",
    "Repitiendo las indicaciones dadas en el documento de la actividad, el problema consiste en implementar un algoritmo evolutivo para calcular la derivada simbólica de una función \n",
    "$$ f:X \\subseteq \\mathcal{R} \\rightarrow \\mathcal{R} $$ \n",
    "\n",
    "Disponemos de las siguientes dos definiciones:\n",
    "\n",
    "> **Definición de derivada de una función en un punto**: Sea $X \\subseteq \\mathcal{R}$ un intervalo abierto. Diremos que $f:X \\subseteq \\mathcal{R} \\rightarrow \\mathcal{R}$ es derivable en $x_0 \\in X$, denotado por $f'(x_0)$, si existe y es finito el límite:\n",
    "$$\n",
    "f'(x_0) = \\lim \\limits_{h \\to 0} \\frac{f(x_0+h)-f(x_0)}{h}  \\tag{1}\n",
    "$$\n",
    "\n",
    "> **Definición de derivada de una función en un intervalo**: Sea $X \\subseteq \\mathcal{R}$ un intervalo abierto. Diremos que $f:X \\subseteq \\mathcal{R} \\rightarrow \\mathcal{R}$ es derivable en el intervalo $[a,b] \\subseteq X$, si $f$ es derivable en cada uno de los puntos de dicho intervalo, es decir, si:\n",
    "$$\n",
    "f'(x) = \\lim \\limits_{h \\to 0} \\frac{f(x+h)-f(x)}{h}, \\forall x \\in [a,b]  \\tag{2}\n",
    "$$\n",
    "\n",
    "Suponiendo que $f$ sea derivable en $[a,b]$, el problema de calcular la derivada lo vamos a transformar en un nuevo problema de optimización consistente en encontrar una función $g(x)$ que minimice la expresión:\n",
    "$$\n",
    "\\min \\limits_{g(x)} \\frac{1}{b-a}\\int_{a}^{b} error[f'(x),g(x)]dx \\tag{3}\n",
    "$$\n",
    "\n",
    "dónde $f'(x)$ se calcularía utilizando la expresión $(2)$.\n",
    "\n",
    "No obstante, el problema anterior se puede resolver de forma aproximada discretizando el intervalo de definición, es decir, cambiando el operador integral por un sumatorio:\n",
    "$$\n",
    "\\min \\limits_{g(x)} \\frac{1}{N+1}\\sum_{i=0}^{N} error_i[f'(a+i*h),g(a+i*h)] \\tag{4}\n",
    "$$\n",
    "dónde $h=\\frac{b-a}{N}$ es la anchura del subintervalo de muestreo para conseguir muestrear $N+1$ puntos en el intervalo $[a,b]$, y $f'(a+i*h)$ viene dado por:\n",
    "$$\n",
    "f'(a+i*h)=\\frac{f(a+(i+1)*h) - f(a+i*h)}{h}, \\forall i \\in \\{0,1,...,N\\} \\tag{5}\n",
    "$$"
   ]
  },
  {
   "cell_type": "markdown",
   "metadata": {},
   "source": [
    "# Método para resolverlo\n",
    "\n"
   ]
  },
  {
   "cell_type": "code",
   "execution_count": null,
   "metadata": {
    "collapsed": true
   },
   "outputs": [],
   "source": []
  },
  {
   "cell_type": "code",
   "execution_count": null,
   "metadata": {
    "collapsed": true
   },
   "outputs": [],
   "source": []
  },
  {
   "cell_type": "code",
   "execution_count": null,
   "metadata": {
    "collapsed": true
   },
   "outputs": [],
   "source": []
  },
  {
   "cell_type": "code",
   "execution_count": null,
   "metadata": {
    "collapsed": true
   },
   "outputs": [],
   "source": []
  }
 ],
 "metadata": {
  "abstract": "TODO: Poner el abstract.",
  "anaconda-cloud": {},
  "author": "Andrés Mañas Mañas",
  "kernelspec": {
   "display_name": "Python [default]",
   "language": "python",
   "name": "python2"
  },
  "language_info": {
   "codemirror_mode": {
    "name": "ipython",
    "version": 2
   },
   "file_extension": ".py",
   "mimetype": "text/x-python",
   "name": "python",
   "nbconvert_exporter": "python",
   "pygments_lexer": "ipython2",
   "version": "2.7.13"
  },
  "latex_envs": {
   "bibliofile": "biblio.bib",
   "cite_by": "apalike",
   "current_citInitial": 1,
   "eqLabelWithNumbers": true,
   "eqNumInitial": 0
  },
  "title": "Computación evolutiva: tercera práctica",
  "toc": {
   "colors": {
    "hover_highlight": "#DAA520",
    "running_highlight": "#FF0000",
    "selected_highlight": "#FFD700"
   },
   "moveMenuLeft": true,
   "navigate_menu": false,
   "number_sections": true,
   "sideBar": false,
   "threshold": 4,
   "toc_cell": true,
   "toc_position": {
    "height": "403px",
    "left": "1600px",
    "right": "20px",
    "top": "108px",
    "width": "307px"
   },
   "toc_section_display": "block",
   "toc_window_display": true
  }
 },
 "nbformat": 4,
 "nbformat_minor": 1
}
