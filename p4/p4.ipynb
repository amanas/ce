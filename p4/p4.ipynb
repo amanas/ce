{
 "cells": [
  {
   "cell_type": "markdown",
   "metadata": {
    "toc": "true"
   },
   "source": [
    "# Table of Contents\n",
    " <p><div class=\"lev1 toc-item\"><a href=\"#Las-tres-opciones-ofertadas-son-las-siguientes:\" data-toc-modified-id=\"Las-tres-opciones-ofertadas-son-las-siguientes:-1\"><span class=\"toc-item-num\">1&nbsp;&nbsp;</span>Las tres opciones ofertadas son las siguientes:</a></div><div class=\"lev1 toc-item\"><a href=\"#Temas\" data-toc-modified-id=\"Temas-2\"><span class=\"toc-item-num\">2&nbsp;&nbsp;</span>Temas</a></div>"
   ]
  },
  {
   "cell_type": "markdown",
   "metadata": {},
   "source": [
    "- Título y autor\n",
    "- Resumen no mayor de 250 palabras del contenido del trabajo\n",
    "- Introducción a la materia tratada en el trabajo (Seguidamente a dicha introducción figurará un párrafo que indique qué se trata en cada una de las secciones siguientes del informe. Lo normal es emplear una frase por cada sección: estado del arte, crítica y conclusiones, en este caso.)\n",
    "- Estado del arte sobre la materia elegida\n",
    "- Crítica donde aparezca un juicio justificado del alumno sobre las ventajas e inconvenientes de los métodos descritos en el apartado anterior y sugerencias de posibles mejoras a los mismos. (Este apartado es uno de los más importantes del informe técnico. El alumno puede incluir aquí libremente sus propias ideas, además de aquéllas que pueda haber recopilado en la literatura y que le parezcan interesantes.)\n",
    "- Conclusiones obtenidas\n",
    "- Referencias bibliográficas mencionadas en el texto del trabajo"
   ]
  },
  {
   "cell_type": "markdown",
   "metadata": {},
   "source": [
    "# Las tres opciones ofertadas son las siguientes:\n",
    "\n",
    "- (1a) Sistema Clasificador Evolutivo ZCS (tema 7, sección 7.4)    **About 5,830 results (0.06 sec)**\n",
    "- (2c) Algoritmos Evolutivos Multiobjetivo (tema 9, sección 9.5)   **About 2,360,000 results (0.07 sec)**\n",
    "- (3c) Optimización de Funciones Dinámicas (tema 13, sección 13.4) **About 2,770,000 results (0.12 sec**\n",
    "\n",
    "# Temas\n",
    "\n",
    "- 7 Learning Classifier Systems\n",
    "- 9 Multimodal Problems and Spatial Distribution\n",
    "- 13 Special Forms of Evolution"
   ]
  }
 ],
 "metadata": {
  "anaconda-cloud": {},
  "kernelspec": {
   "display_name": "Python [conda root]",
   "language": "python",
   "name": "conda-root-py"
  },
  "language_info": {
   "codemirror_mode": {
    "name": "ipython",
    "version": 2
   },
   "file_extension": ".py",
   "mimetype": "text/x-python",
   "name": "python",
   "nbconvert_exporter": "python",
   "pygments_lexer": "ipython2",
   "version": "2.7.13"
  },
  "toc": {
   "colors": {
    "hover_highlight": "#DAA520",
    "running_highlight": "#FF0000",
    "selected_highlight": "#FFD700"
   },
   "moveMenuLeft": true,
   "navigate_menu": false,
   "number_sections": true,
   "sideBar": false,
   "threshold": 4,
   "toc_cell": true,
   "toc_section_display": "block",
   "toc_window_display": false,
   "widenNotebook": false
  }
 },
 "nbformat": 4,
 "nbformat_minor": 2
}
